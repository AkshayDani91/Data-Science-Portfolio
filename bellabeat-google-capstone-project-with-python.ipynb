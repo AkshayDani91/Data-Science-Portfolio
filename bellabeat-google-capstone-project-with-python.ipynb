{
 "cells": [
  {
   "cell_type": "markdown",
   "id": "2f3e774e",
   "metadata": {
    "papermill": {
     "duration": 0.036261,
     "end_time": "2021-12-28T18:36:37.979259",
     "exception": false,
     "start_time": "2021-12-28T18:36:37.942998",
     "status": "completed"
    },
    "tags": []
   },
   "source": [
    "# **Bellabeat: Google Capstone Project with Python**"
   ]
  },
  {
   "cell_type": "markdown",
   "id": "39c02428",
   "metadata": {
    "papermill": {
     "duration": 0.033138,
     "end_time": "2021-12-28T18:36:38.047454",
     "exception": false,
     "start_time": "2021-12-28T18:36:38.014316",
     "status": "completed"
    },
    "tags": []
   },
   "source": [
    "# ****Introduction:****\n",
    "Welcome to the Bellabeat data analysis case study! Bellabeat is a successful small company, but they have the potential to become a larger player in the global smart device market. **Urška Sršen, cofounder and Chief Creative Officer of Bellabeat**, believes that analyzing smart device fitness data could help unlock new growth opportunities for the company. You have been asked to focus on one of\n",
    "Bellabeat’s products and analyze smart device data to gain insight into how consumers are using their smart devices. The insights you discover will then help guide marketing strategy for the company."
   ]
  },
  {
   "cell_type": "markdown",
   "id": "397a588a",
   "metadata": {
    "papermill": {
     "duration": 0.044795,
     "end_time": "2021-12-28T18:36:38.134672",
     "exception": false,
     "start_time": "2021-12-28T18:36:38.089877",
     "status": "completed"
    },
    "tags": []
   },
   "source": [
    "# **About The Company**\n",
    "Urška Sršen and Sando Mur founded Bellabeat, a high-tech company that manufactures health-focused smart products. Sršen used her background as an artist to develop beautifully designed technology that informs and inspires women around the world. Collecting data on activity, sleep, stress, and reproductive health has allowed Bellabeat to empower women with knowledge about their own health and habits. Since it was founded in 2013, Bellabeat has grown rapidly and quickly positioned itself as a tech-driven wellness company for women. \n",
    "\n",
    "By 2016, Bellabeat had opened offices around the world and launched multiple products. Bellabeat products became available through a growing number of online retailers in addition to their own e-commerce channel on their website. The company has invested in traditional advertising media, such as radio, out-of-home billboards, print, and television, but focuses on digital marketing extensively. \n",
    "Bellabeat invests year-round in Google Search, maintaining active Facebook and Instagram pages, and\n",
    "consistently engages consumers on Twitter. Additionally, Bellabeat runs video ads on Youtube and display ads on the Google Display Network to support campaigns around key marketing dates.\n",
    "\n",
    "Sršen knows that an analysis of Bellabeat’s available consumer data would reveal more opportunities for growth. She has asked the marketing analytics team to focus on a Bellabeat product and analyze smart device usage data in order to gain insight into how people are already using their smart devices. Then, using this information, she would like high-level recommendations for how these trends can inform Bellabeat marketing strategy."
   ]
  },
  {
   "cell_type": "markdown",
   "id": "0ff4d718",
   "metadata": {
    "papermill": {
     "duration": 0.033126,
     "end_time": "2021-12-28T18:36:38.203066",
     "exception": false,
     "start_time": "2021-12-28T18:36:38.169940",
     "status": "completed"
    },
    "tags": []
   },
   "source": [
    "# Business Task\n",
    "**Identify trends and behaviour patterns in smart device usage among non-Bellabeat users and apply insights to one Bellabeat product.**"
   ]
  },
  {
   "cell_type": "markdown",
   "id": "bba063e5",
   "metadata": {
    "papermill": {
     "duration": 0.039779,
     "end_time": "2021-12-28T18:36:38.280368",
     "exception": false,
     "start_time": "2021-12-28T18:36:38.240589",
     "status": "completed"
    },
    "tags": []
   },
   "source": [
    "# Data Preparation"
   ]
  },
  {
   "cell_type": "markdown",
   "id": "d8d3fee6",
   "metadata": {
    "papermill": {
     "duration": 0.036147,
     "end_time": "2021-12-28T18:36:38.350086",
     "exception": false,
     "start_time": "2021-12-28T18:36:38.313939",
     "status": "completed"
    },
    "tags": []
   },
   "source": [
    "**Import Libraries**"
   ]
  },
  {
   "cell_type": "code",
   "execution_count": 1,
   "id": "4a74b615",
   "metadata": {
    "_cell_guid": "b1076dfc-b9ad-4769-8c92-a6c4dae69d19",
    "_uuid": "8f2839f25d086af736a60e9eeb907d3b93b6e0e5",
    "execution": {
     "iopub.execute_input": "2021-12-28T18:36:38.426702Z",
     "iopub.status.busy": "2021-12-28T18:36:38.425567Z",
     "iopub.status.idle": "2021-12-28T18:36:39.254439Z",
     "shell.execute_reply": "2021-12-28T18:36:39.254893Z",
     "shell.execute_reply.started": "2021-12-28T18:25:11.543691Z"
    },
    "papermill": {
     "duration": 0.871683,
     "end_time": "2021-12-28T18:36:39.255175",
     "exception": false,
     "start_time": "2021-12-28T18:36:38.383492",
     "status": "completed"
    },
    "tags": []
   },
   "outputs": [],
   "source": [
    "import numpy as np \n",
    "import pandas as pd\n",
    "import datetime\n",
    "import matplotlib.pyplot as plt\n",
    "import seaborn as sns\n",
    "%matplotlib inline"
   ]
  },
  {
   "cell_type": "markdown",
   "id": "a32f617e",
   "metadata": {
    "papermill": {
     "duration": 0.033385,
     "end_time": "2021-12-28T18:36:39.322251",
     "exception": false,
     "start_time": "2021-12-28T18:36:39.288866",
     "status": "completed"
    },
    "tags": []
   },
   "source": [
    "**Import Datasets**"
   ]
  },
  {
   "cell_type": "code",
   "execution_count": 2,
   "id": "fe803224",
   "metadata": {
    "execution": {
     "iopub.execute_input": "2021-12-28T18:36:39.392283Z",
     "iopub.status.busy": "2021-12-28T18:36:39.391657Z",
     "iopub.status.idle": "2021-12-28T18:36:39.454914Z",
     "shell.execute_reply": "2021-12-28T18:36:39.455401Z",
     "shell.execute_reply.started": "2021-12-28T18:25:30.265428Z"
    },
    "papermill": {
     "duration": 0.099736,
     "end_time": "2021-12-28T18:36:39.455569",
     "exception": false,
     "start_time": "2021-12-28T18:36:39.355833",
     "status": "completed"
    },
    "tags": []
   },
   "outputs": [],
   "source": [
    "daily_activity = pd.read_csv('../input/fitbit/Fitabase Data 4.12.16-5.12.16/dailyActivity_merged.csv')\n",
    "sleep = pd.read_csv('../input/fitbit/Fitabase Data 4.12.16-5.12.16/sleepDay_merged.csv')\n",
    "hourly_intensities = pd.read_csv('../input/fitbit/Fitabase Data 4.12.16-5.12.16/hourlyIntensities_merged.csv')"
   ]
  },
  {
   "cell_type": "code",
   "execution_count": 3,
   "id": "cd55198d",
   "metadata": {
    "execution": {
     "iopub.execute_input": "2021-12-28T18:36:39.526073Z",
     "iopub.status.busy": "2021-12-28T18:36:39.525505Z",
     "iopub.status.idle": "2021-12-28T18:36:39.547515Z",
     "shell.execute_reply": "2021-12-28T18:36:39.547938Z",
     "shell.execute_reply.started": "2021-12-28T18:25:33.486600Z"
    },
    "papermill": {
     "duration": 0.059176,
     "end_time": "2021-12-28T18:36:39.548113",
     "exception": false,
     "start_time": "2021-12-28T18:36:39.488937",
     "status": "completed"
    },
    "tags": []
   },
   "outputs": [
    {
     "data": {
      "text/html": [
       "<div>\n",
       "<style scoped>\n",
       "    .dataframe tbody tr th:only-of-type {\n",
       "        vertical-align: middle;\n",
       "    }\n",
       "\n",
       "    .dataframe tbody tr th {\n",
       "        vertical-align: top;\n",
       "    }\n",
       "\n",
       "    .dataframe thead th {\n",
       "        text-align: right;\n",
       "    }\n",
       "</style>\n",
       "<table border=\"1\" class=\"dataframe\">\n",
       "  <thead>\n",
       "    <tr style=\"text-align: right;\">\n",
       "      <th></th>\n",
       "      <th>Id</th>\n",
       "      <th>ActivityDate</th>\n",
       "      <th>TotalSteps</th>\n",
       "      <th>TotalDistance</th>\n",
       "      <th>TrackerDistance</th>\n",
       "      <th>LoggedActivitiesDistance</th>\n",
       "      <th>VeryActiveDistance</th>\n",
       "      <th>ModeratelyActiveDistance</th>\n",
       "      <th>LightActiveDistance</th>\n",
       "      <th>SedentaryActiveDistance</th>\n",
       "      <th>VeryActiveMinutes</th>\n",
       "      <th>FairlyActiveMinutes</th>\n",
       "      <th>LightlyActiveMinutes</th>\n",
       "      <th>SedentaryMinutes</th>\n",
       "      <th>Calories</th>\n",
       "    </tr>\n",
       "  </thead>\n",
       "  <tbody>\n",
       "    <tr>\n",
       "      <th>0</th>\n",
       "      <td>1503960366</td>\n",
       "      <td>4/12/2016</td>\n",
       "      <td>13162</td>\n",
       "      <td>8.50</td>\n",
       "      <td>8.50</td>\n",
       "      <td>0.0</td>\n",
       "      <td>1.88</td>\n",
       "      <td>0.55</td>\n",
       "      <td>6.06</td>\n",
       "      <td>0.0</td>\n",
       "      <td>25</td>\n",
       "      <td>13</td>\n",
       "      <td>328</td>\n",
       "      <td>728</td>\n",
       "      <td>1985</td>\n",
       "    </tr>\n",
       "    <tr>\n",
       "      <th>1</th>\n",
       "      <td>1503960366</td>\n",
       "      <td>4/13/2016</td>\n",
       "      <td>10735</td>\n",
       "      <td>6.97</td>\n",
       "      <td>6.97</td>\n",
       "      <td>0.0</td>\n",
       "      <td>1.57</td>\n",
       "      <td>0.69</td>\n",
       "      <td>4.71</td>\n",
       "      <td>0.0</td>\n",
       "      <td>21</td>\n",
       "      <td>19</td>\n",
       "      <td>217</td>\n",
       "      <td>776</td>\n",
       "      <td>1797</td>\n",
       "    </tr>\n",
       "    <tr>\n",
       "      <th>2</th>\n",
       "      <td>1503960366</td>\n",
       "      <td>4/14/2016</td>\n",
       "      <td>10460</td>\n",
       "      <td>6.74</td>\n",
       "      <td>6.74</td>\n",
       "      <td>0.0</td>\n",
       "      <td>2.44</td>\n",
       "      <td>0.40</td>\n",
       "      <td>3.91</td>\n",
       "      <td>0.0</td>\n",
       "      <td>30</td>\n",
       "      <td>11</td>\n",
       "      <td>181</td>\n",
       "      <td>1218</td>\n",
       "      <td>1776</td>\n",
       "    </tr>\n",
       "    <tr>\n",
       "      <th>3</th>\n",
       "      <td>1503960366</td>\n",
       "      <td>4/15/2016</td>\n",
       "      <td>9762</td>\n",
       "      <td>6.28</td>\n",
       "      <td>6.28</td>\n",
       "      <td>0.0</td>\n",
       "      <td>2.14</td>\n",
       "      <td>1.26</td>\n",
       "      <td>2.83</td>\n",
       "      <td>0.0</td>\n",
       "      <td>29</td>\n",
       "      <td>34</td>\n",
       "      <td>209</td>\n",
       "      <td>726</td>\n",
       "      <td>1745</td>\n",
       "    </tr>\n",
       "    <tr>\n",
       "      <th>4</th>\n",
       "      <td>1503960366</td>\n",
       "      <td>4/16/2016</td>\n",
       "      <td>12669</td>\n",
       "      <td>8.16</td>\n",
       "      <td>8.16</td>\n",
       "      <td>0.0</td>\n",
       "      <td>2.71</td>\n",
       "      <td>0.41</td>\n",
       "      <td>5.04</td>\n",
       "      <td>0.0</td>\n",
       "      <td>36</td>\n",
       "      <td>10</td>\n",
       "      <td>221</td>\n",
       "      <td>773</td>\n",
       "      <td>1863</td>\n",
       "    </tr>\n",
       "  </tbody>\n",
       "</table>\n",
       "</div>"
      ],
      "text/plain": [
       "           Id ActivityDate  TotalSteps  TotalDistance  TrackerDistance  \\\n",
       "0  1503960366    4/12/2016       13162           8.50             8.50   \n",
       "1  1503960366    4/13/2016       10735           6.97             6.97   \n",
       "2  1503960366    4/14/2016       10460           6.74             6.74   \n",
       "3  1503960366    4/15/2016        9762           6.28             6.28   \n",
       "4  1503960366    4/16/2016       12669           8.16             8.16   \n",
       "\n",
       "   LoggedActivitiesDistance  VeryActiveDistance  ModeratelyActiveDistance  \\\n",
       "0                       0.0                1.88                      0.55   \n",
       "1                       0.0                1.57                      0.69   \n",
       "2                       0.0                2.44                      0.40   \n",
       "3                       0.0                2.14                      1.26   \n",
       "4                       0.0                2.71                      0.41   \n",
       "\n",
       "   LightActiveDistance  SedentaryActiveDistance  VeryActiveMinutes  \\\n",
       "0                 6.06                      0.0                 25   \n",
       "1                 4.71                      0.0                 21   \n",
       "2                 3.91                      0.0                 30   \n",
       "3                 2.83                      0.0                 29   \n",
       "4                 5.04                      0.0                 36   \n",
       "\n",
       "   FairlyActiveMinutes  LightlyActiveMinutes  SedentaryMinutes  Calories  \n",
       "0                   13                   328               728      1985  \n",
       "1                   19                   217               776      1797  \n",
       "2                   11                   181              1218      1776  \n",
       "3                   34                   209               726      1745  \n",
       "4                   10                   221               773      1863  "
      ]
     },
     "execution_count": 3,
     "metadata": {},
     "output_type": "execute_result"
    }
   ],
   "source": [
    "daily_activity.head()"
   ]
  },
  {
   "cell_type": "code",
   "execution_count": 4,
   "id": "a828df61",
   "metadata": {
    "execution": {
     "iopub.execute_input": "2021-12-28T18:36:39.619253Z",
     "iopub.status.busy": "2021-12-28T18:36:39.618668Z",
     "iopub.status.idle": "2021-12-28T18:36:39.627073Z",
     "shell.execute_reply": "2021-12-28T18:36:39.627618Z",
     "shell.execute_reply.started": "2021-12-28T18:25:36.163149Z"
    },
    "papermill": {
     "duration": 0.0454,
     "end_time": "2021-12-28T18:36:39.627780",
     "exception": false,
     "start_time": "2021-12-28T18:36:39.582380",
     "status": "completed"
    },
    "tags": []
   },
   "outputs": [
    {
     "data": {
      "text/html": [
       "<div>\n",
       "<style scoped>\n",
       "    .dataframe tbody tr th:only-of-type {\n",
       "        vertical-align: middle;\n",
       "    }\n",
       "\n",
       "    .dataframe tbody tr th {\n",
       "        vertical-align: top;\n",
       "    }\n",
       "\n",
       "    .dataframe thead th {\n",
       "        text-align: right;\n",
       "    }\n",
       "</style>\n",
       "<table border=\"1\" class=\"dataframe\">\n",
       "  <thead>\n",
       "    <tr style=\"text-align: right;\">\n",
       "      <th></th>\n",
       "      <th>Id</th>\n",
       "      <th>SleepDay</th>\n",
       "      <th>TotalSleepRecords</th>\n",
       "      <th>TotalMinutesAsleep</th>\n",
       "      <th>TotalTimeInBed</th>\n",
       "    </tr>\n",
       "  </thead>\n",
       "  <tbody>\n",
       "    <tr>\n",
       "      <th>0</th>\n",
       "      <td>1503960366</td>\n",
       "      <td>4/12/2016 12:00:00 AM</td>\n",
       "      <td>1</td>\n",
       "      <td>327</td>\n",
       "      <td>346</td>\n",
       "    </tr>\n",
       "    <tr>\n",
       "      <th>1</th>\n",
       "      <td>1503960366</td>\n",
       "      <td>4/13/2016 12:00:00 AM</td>\n",
       "      <td>2</td>\n",
       "      <td>384</td>\n",
       "      <td>407</td>\n",
       "    </tr>\n",
       "    <tr>\n",
       "      <th>2</th>\n",
       "      <td>1503960366</td>\n",
       "      <td>4/15/2016 12:00:00 AM</td>\n",
       "      <td>1</td>\n",
       "      <td>412</td>\n",
       "      <td>442</td>\n",
       "    </tr>\n",
       "    <tr>\n",
       "      <th>3</th>\n",
       "      <td>1503960366</td>\n",
       "      <td>4/16/2016 12:00:00 AM</td>\n",
       "      <td>2</td>\n",
       "      <td>340</td>\n",
       "      <td>367</td>\n",
       "    </tr>\n",
       "    <tr>\n",
       "      <th>4</th>\n",
       "      <td>1503960366</td>\n",
       "      <td>4/17/2016 12:00:00 AM</td>\n",
       "      <td>1</td>\n",
       "      <td>700</td>\n",
       "      <td>712</td>\n",
       "    </tr>\n",
       "  </tbody>\n",
       "</table>\n",
       "</div>"
      ],
      "text/plain": [
       "           Id               SleepDay  TotalSleepRecords  TotalMinutesAsleep  \\\n",
       "0  1503960366  4/12/2016 12:00:00 AM                  1                 327   \n",
       "1  1503960366  4/13/2016 12:00:00 AM                  2                 384   \n",
       "2  1503960366  4/15/2016 12:00:00 AM                  1                 412   \n",
       "3  1503960366  4/16/2016 12:00:00 AM                  2                 340   \n",
       "4  1503960366  4/17/2016 12:00:00 AM                  1                 700   \n",
       "\n",
       "   TotalTimeInBed  \n",
       "0             346  \n",
       "1             407  \n",
       "2             442  \n",
       "3             367  \n",
       "4             712  "
      ]
     },
     "execution_count": 4,
     "metadata": {},
     "output_type": "execute_result"
    }
   ],
   "source": [
    "sleep.head()"
   ]
  },
  {
   "cell_type": "code",
   "execution_count": 5,
   "id": "852ec950",
   "metadata": {
    "execution": {
     "iopub.execute_input": "2021-12-28T18:36:39.700311Z",
     "iopub.status.busy": "2021-12-28T18:36:39.699665Z",
     "iopub.status.idle": "2021-12-28T18:36:39.708137Z",
     "shell.execute_reply": "2021-12-28T18:36:39.708664Z",
     "shell.execute_reply.started": "2021-12-28T18:25:39.428482Z"
    },
    "papermill": {
     "duration": 0.046328,
     "end_time": "2021-12-28T18:36:39.708827",
     "exception": false,
     "start_time": "2021-12-28T18:36:39.662499",
     "status": "completed"
    },
    "tags": []
   },
   "outputs": [
    {
     "data": {
      "text/html": [
       "<div>\n",
       "<style scoped>\n",
       "    .dataframe tbody tr th:only-of-type {\n",
       "        vertical-align: middle;\n",
       "    }\n",
       "\n",
       "    .dataframe tbody tr th {\n",
       "        vertical-align: top;\n",
       "    }\n",
       "\n",
       "    .dataframe thead th {\n",
       "        text-align: right;\n",
       "    }\n",
       "</style>\n",
       "<table border=\"1\" class=\"dataframe\">\n",
       "  <thead>\n",
       "    <tr style=\"text-align: right;\">\n",
       "      <th></th>\n",
       "      <th>Id</th>\n",
       "      <th>ActivityHour</th>\n",
       "      <th>TotalIntensity</th>\n",
       "      <th>AverageIntensity</th>\n",
       "    </tr>\n",
       "  </thead>\n",
       "  <tbody>\n",
       "    <tr>\n",
       "      <th>0</th>\n",
       "      <td>1503960366</td>\n",
       "      <td>4/12/2016 12:00:00 AM</td>\n",
       "      <td>20</td>\n",
       "      <td>0.333333</td>\n",
       "    </tr>\n",
       "    <tr>\n",
       "      <th>1</th>\n",
       "      <td>1503960366</td>\n",
       "      <td>4/12/2016 1:00:00 AM</td>\n",
       "      <td>8</td>\n",
       "      <td>0.133333</td>\n",
       "    </tr>\n",
       "    <tr>\n",
       "      <th>2</th>\n",
       "      <td>1503960366</td>\n",
       "      <td>4/12/2016 2:00:00 AM</td>\n",
       "      <td>7</td>\n",
       "      <td>0.116667</td>\n",
       "    </tr>\n",
       "    <tr>\n",
       "      <th>3</th>\n",
       "      <td>1503960366</td>\n",
       "      <td>4/12/2016 3:00:00 AM</td>\n",
       "      <td>0</td>\n",
       "      <td>0.000000</td>\n",
       "    </tr>\n",
       "    <tr>\n",
       "      <th>4</th>\n",
       "      <td>1503960366</td>\n",
       "      <td>4/12/2016 4:00:00 AM</td>\n",
       "      <td>0</td>\n",
       "      <td>0.000000</td>\n",
       "    </tr>\n",
       "  </tbody>\n",
       "</table>\n",
       "</div>"
      ],
      "text/plain": [
       "           Id           ActivityHour  TotalIntensity  AverageIntensity\n",
       "0  1503960366  4/12/2016 12:00:00 AM              20          0.333333\n",
       "1  1503960366   4/12/2016 1:00:00 AM               8          0.133333\n",
       "2  1503960366   4/12/2016 2:00:00 AM               7          0.116667\n",
       "3  1503960366   4/12/2016 3:00:00 AM               0          0.000000\n",
       "4  1503960366   4/12/2016 4:00:00 AM               0          0.000000"
      ]
     },
     "execution_count": 5,
     "metadata": {},
     "output_type": "execute_result"
    }
   ],
   "source": [
    "hourly_intensities.head()"
   ]
  },
  {
   "cell_type": "code",
   "execution_count": 6,
   "id": "43ee207c",
   "metadata": {
    "execution": {
     "iopub.execute_input": "2021-12-28T18:36:39.781454Z",
     "iopub.status.busy": "2021-12-28T18:36:39.780870Z",
     "iopub.status.idle": "2021-12-28T18:36:39.802410Z",
     "shell.execute_reply": "2021-12-28T18:36:39.802853Z",
     "shell.execute_reply.started": "2021-12-28T18:25:42.307918Z"
    },
    "papermill": {
     "duration": 0.05941,
     "end_time": "2021-12-28T18:36:39.803173",
     "exception": false,
     "start_time": "2021-12-28T18:36:39.743763",
     "status": "completed"
    },
    "tags": []
   },
   "outputs": [
    {
     "name": "stdout",
     "output_type": "stream",
     "text": [
      "<class 'pandas.core.frame.DataFrame'>\n",
      "RangeIndex: 940 entries, 0 to 939\n",
      "Data columns (total 15 columns):\n",
      " #   Column                    Non-Null Count  Dtype  \n",
      "---  ------                    --------------  -----  \n",
      " 0   Id                        940 non-null    int64  \n",
      " 1   ActivityDate              940 non-null    object \n",
      " 2   TotalSteps                940 non-null    int64  \n",
      " 3   TotalDistance             940 non-null    float64\n",
      " 4   TrackerDistance           940 non-null    float64\n",
      " 5   LoggedActivitiesDistance  940 non-null    float64\n",
      " 6   VeryActiveDistance        940 non-null    float64\n",
      " 7   ModeratelyActiveDistance  940 non-null    float64\n",
      " 8   LightActiveDistance       940 non-null    float64\n",
      " 9   SedentaryActiveDistance   940 non-null    float64\n",
      " 10  VeryActiveMinutes         940 non-null    int64  \n",
      " 11  FairlyActiveMinutes       940 non-null    int64  \n",
      " 12  LightlyActiveMinutes      940 non-null    int64  \n",
      " 13  SedentaryMinutes          940 non-null    int64  \n",
      " 14  Calories                  940 non-null    int64  \n",
      "dtypes: float64(7), int64(7), object(1)\n",
      "memory usage: 110.3+ KB\n"
     ]
    }
   ],
   "source": [
    "daily_activity.info()"
   ]
  },
  {
   "cell_type": "markdown",
   "id": "e862eba3",
   "metadata": {
    "papermill": {
     "duration": 0.035349,
     "end_time": "2021-12-28T18:36:39.873985",
     "exception": false,
     "start_time": "2021-12-28T18:36:39.838636",
     "status": "completed"
    },
    "tags": []
   },
   "source": [
    "The type of 'ActivitydDate' column is a string in this dataframe. We need to convert it to datetime."
   ]
  },
  {
   "cell_type": "code",
   "execution_count": 7,
   "id": "5d0fad6e",
   "metadata": {
    "execution": {
     "iopub.execute_input": "2021-12-28T18:36:39.947684Z",
     "iopub.status.busy": "2021-12-28T18:36:39.947092Z",
     "iopub.status.idle": "2021-12-28T18:36:39.959000Z",
     "shell.execute_reply": "2021-12-28T18:36:39.959526Z",
     "shell.execute_reply.started": "2021-12-28T18:25:46.443046Z"
    },
    "papermill": {
     "duration": 0.050354,
     "end_time": "2021-12-28T18:36:39.959730",
     "exception": false,
     "start_time": "2021-12-28T18:36:39.909376",
     "status": "completed"
    },
    "tags": []
   },
   "outputs": [],
   "source": [
    "daily_activity['ActivityDate'] = pd.to_datetime(daily_activity['ActivityDate'], dayfirst = True)"
   ]
  },
  {
   "cell_type": "code",
   "execution_count": 8,
   "id": "b4c9c93b",
   "metadata": {
    "execution": {
     "iopub.execute_input": "2021-12-28T18:36:40.039559Z",
     "iopub.status.busy": "2021-12-28T18:36:40.038941Z",
     "iopub.status.idle": "2021-12-28T18:36:40.045757Z",
     "shell.execute_reply": "2021-12-28T18:36:40.046156Z",
     "shell.execute_reply.started": "2021-12-28T18:25:51.562963Z"
    },
    "papermill": {
     "duration": 0.049858,
     "end_time": "2021-12-28T18:36:40.046334",
     "exception": false,
     "start_time": "2021-12-28T18:36:39.996476",
     "status": "completed"
    },
    "tags": []
   },
   "outputs": [
    {
     "name": "stdout",
     "output_type": "stream",
     "text": [
      "<class 'pandas.core.frame.DataFrame'>\n",
      "RangeIndex: 940 entries, 0 to 939\n",
      "Data columns (total 15 columns):\n",
      " #   Column                    Non-Null Count  Dtype         \n",
      "---  ------                    --------------  -----         \n",
      " 0   Id                        940 non-null    int64         \n",
      " 1   ActivityDate              940 non-null    datetime64[ns]\n",
      " 2   TotalSteps                940 non-null    int64         \n",
      " 3   TotalDistance             940 non-null    float64       \n",
      " 4   TrackerDistance           940 non-null    float64       \n",
      " 5   LoggedActivitiesDistance  940 non-null    float64       \n",
      " 6   VeryActiveDistance        940 non-null    float64       \n",
      " 7   ModeratelyActiveDistance  940 non-null    float64       \n",
      " 8   LightActiveDistance       940 non-null    float64       \n",
      " 9   SedentaryActiveDistance   940 non-null    float64       \n",
      " 10  VeryActiveMinutes         940 non-null    int64         \n",
      " 11  FairlyActiveMinutes       940 non-null    int64         \n",
      " 12  LightlyActiveMinutes      940 non-null    int64         \n",
      " 13  SedentaryMinutes          940 non-null    int64         \n",
      " 14  Calories                  940 non-null    int64         \n",
      "dtypes: datetime64[ns](1), float64(7), int64(7)\n",
      "memory usage: 110.3 KB\n"
     ]
    }
   ],
   "source": [
    "daily_activity.info()"
   ]
  },
  {
   "cell_type": "code",
   "execution_count": 9,
   "id": "cadd3b34",
   "metadata": {
    "execution": {
     "iopub.execute_input": "2021-12-28T18:36:40.142975Z",
     "iopub.status.busy": "2021-12-28T18:36:40.142083Z",
     "iopub.status.idle": "2021-12-28T18:36:40.152502Z",
     "shell.execute_reply": "2021-12-28T18:36:40.153002Z",
     "shell.execute_reply.started": "2021-12-28T18:25:55.497859Z"
    },
    "papermill": {
     "duration": 0.065961,
     "end_time": "2021-12-28T18:36:40.153162",
     "exception": false,
     "start_time": "2021-12-28T18:36:40.087201",
     "status": "completed"
    },
    "tags": []
   },
   "outputs": [
    {
     "name": "stdout",
     "output_type": "stream",
     "text": [
      "<class 'pandas.core.frame.DataFrame'>\n",
      "RangeIndex: 413 entries, 0 to 412\n",
      "Data columns (total 5 columns):\n",
      " #   Column              Non-Null Count  Dtype \n",
      "---  ------              --------------  ----- \n",
      " 0   Id                  413 non-null    int64 \n",
      " 1   SleepDay            413 non-null    object\n",
      " 2   TotalSleepRecords   413 non-null    int64 \n",
      " 3   TotalMinutesAsleep  413 non-null    int64 \n",
      " 4   TotalTimeInBed      413 non-null    int64 \n",
      "dtypes: int64(4), object(1)\n",
      "memory usage: 16.3+ KB\n"
     ]
    }
   ],
   "source": [
    "sleep.info()"
   ]
  },
  {
   "cell_type": "code",
   "execution_count": 10,
   "id": "899dfa77",
   "metadata": {
    "execution": {
     "iopub.execute_input": "2021-12-28T18:36:40.236234Z",
     "iopub.status.busy": "2021-12-28T18:36:40.235658Z",
     "iopub.status.idle": "2021-12-28T18:36:40.244941Z",
     "shell.execute_reply": "2021-12-28T18:36:40.245482Z",
     "shell.execute_reply.started": "2021-12-28T18:25:58.122537Z"
    },
    "papermill": {
     "duration": 0.049854,
     "end_time": "2021-12-28T18:36:40.245659",
     "exception": false,
     "start_time": "2021-12-28T18:36:40.195805",
     "status": "completed"
    },
    "tags": []
   },
   "outputs": [],
   "source": [
    "sleep['SleepDay'] = pd.to_datetime(sleep['SleepDay'], dayfirst=True)"
   ]
  },
  {
   "cell_type": "code",
   "execution_count": 11,
   "id": "3b44efc9",
   "metadata": {
    "execution": {
     "iopub.execute_input": "2021-12-28T18:36:40.321865Z",
     "iopub.status.busy": "2021-12-28T18:36:40.321236Z",
     "iopub.status.idle": "2021-12-28T18:36:40.333095Z",
     "shell.execute_reply": "2021-12-28T18:36:40.332233Z",
     "shell.execute_reply.started": "2021-12-28T18:26:02.676837Z"
    },
    "papermill": {
     "duration": 0.050435,
     "end_time": "2021-12-28T18:36:40.333283",
     "exception": false,
     "start_time": "2021-12-28T18:36:40.282848",
     "status": "completed"
    },
    "tags": []
   },
   "outputs": [
    {
     "name": "stdout",
     "output_type": "stream",
     "text": [
      "<class 'pandas.core.frame.DataFrame'>\n",
      "RangeIndex: 413 entries, 0 to 412\n",
      "Data columns (total 5 columns):\n",
      " #   Column              Non-Null Count  Dtype         \n",
      "---  ------              --------------  -----         \n",
      " 0   Id                  413 non-null    int64         \n",
      " 1   SleepDay            413 non-null    datetime64[ns]\n",
      " 2   TotalSleepRecords   413 non-null    int64         \n",
      " 3   TotalMinutesAsleep  413 non-null    int64         \n",
      " 4   TotalTimeInBed      413 non-null    int64         \n",
      "dtypes: datetime64[ns](1), int64(4)\n",
      "memory usage: 16.3 KB\n"
     ]
    }
   ],
   "source": [
    "sleep.info()"
   ]
  },
  {
   "cell_type": "code",
   "execution_count": 12,
   "id": "52b42ed8",
   "metadata": {
    "execution": {
     "iopub.execute_input": "2021-12-28T18:36:40.420254Z",
     "iopub.status.busy": "2021-12-28T18:36:40.413594Z",
     "iopub.status.idle": "2021-12-28T18:36:40.423513Z",
     "shell.execute_reply": "2021-12-28T18:36:40.423944Z",
     "shell.execute_reply.started": "2021-12-28T18:26:06.239267Z"
    },
    "papermill": {
     "duration": 0.053083,
     "end_time": "2021-12-28T18:36:40.424099",
     "exception": false,
     "start_time": "2021-12-28T18:36:40.371016",
     "status": "completed"
    },
    "tags": []
   },
   "outputs": [
    {
     "name": "stdout",
     "output_type": "stream",
     "text": [
      "<class 'pandas.core.frame.DataFrame'>\n",
      "RangeIndex: 22099 entries, 0 to 22098\n",
      "Data columns (total 4 columns):\n",
      " #   Column            Non-Null Count  Dtype  \n",
      "---  ------            --------------  -----  \n",
      " 0   Id                22099 non-null  int64  \n",
      " 1   ActivityHour      22099 non-null  object \n",
      " 2   TotalIntensity    22099 non-null  int64  \n",
      " 3   AverageIntensity  22099 non-null  float64\n",
      "dtypes: float64(1), int64(2), object(1)\n",
      "memory usage: 690.7+ KB\n"
     ]
    }
   ],
   "source": [
    "hourly_intensities.info()"
   ]
  },
  {
   "cell_type": "code",
   "execution_count": 13,
   "id": "56968dd7",
   "metadata": {
    "execution": {
     "iopub.execute_input": "2021-12-28T18:36:40.500524Z",
     "iopub.status.busy": "2021-12-28T18:36:40.499913Z",
     "iopub.status.idle": "2021-12-28T18:36:42.693490Z",
     "shell.execute_reply": "2021-12-28T18:36:42.692638Z",
     "shell.execute_reply.started": "2021-12-28T18:26:16.464210Z"
    },
    "papermill": {
     "duration": 2.233386,
     "end_time": "2021-12-28T18:36:42.693666",
     "exception": false,
     "start_time": "2021-12-28T18:36:40.460280",
     "status": "completed"
    },
    "tags": []
   },
   "outputs": [],
   "source": [
    "hourly_intensities['ActivityHour'] = pd.to_datetime(hourly_intensities['ActivityHour'], dayfirst= True)"
   ]
  },
  {
   "cell_type": "code",
   "execution_count": 14,
   "id": "a8601f64",
   "metadata": {
    "execution": {
     "iopub.execute_input": "2021-12-28T18:36:42.774566Z",
     "iopub.status.busy": "2021-12-28T18:36:42.773910Z",
     "iopub.status.idle": "2021-12-28T18:36:42.783669Z",
     "shell.execute_reply": "2021-12-28T18:36:42.784104Z",
     "shell.execute_reply.started": "2021-12-28T18:26:24.083474Z"
    },
    "papermill": {
     "duration": 0.052357,
     "end_time": "2021-12-28T18:36:42.784277",
     "exception": false,
     "start_time": "2021-12-28T18:36:42.731920",
     "status": "completed"
    },
    "tags": []
   },
   "outputs": [
    {
     "name": "stdout",
     "output_type": "stream",
     "text": [
      "<class 'pandas.core.frame.DataFrame'>\n",
      "RangeIndex: 22099 entries, 0 to 22098\n",
      "Data columns (total 4 columns):\n",
      " #   Column            Non-Null Count  Dtype         \n",
      "---  ------            --------------  -----         \n",
      " 0   Id                22099 non-null  int64         \n",
      " 1   ActivityHour      22099 non-null  datetime64[ns]\n",
      " 2   TotalIntensity    22099 non-null  int64         \n",
      " 3   AverageIntensity  22099 non-null  float64       \n",
      "dtypes: datetime64[ns](1), float64(1), int64(2)\n",
      "memory usage: 690.7 KB\n"
     ]
    }
   ],
   "source": [
    "hourly_intensities.info()"
   ]
  },
  {
   "cell_type": "markdown",
   "id": "f62b69cc",
   "metadata": {
    "papermill": {
     "duration": 0.037682,
     "end_time": "2021-12-28T18:36:42.859313",
     "exception": false,
     "start_time": "2021-12-28T18:36:42.821631",
     "status": "completed"
    },
    "tags": []
   },
   "source": [
    "# Data Processing"
   ]
  },
  {
   "cell_type": "markdown",
   "id": "00ecc477",
   "metadata": {
    "papermill": {
     "duration": 0.037639,
     "end_time": "2021-12-28T18:36:42.934461",
     "exception": false,
     "start_time": "2021-12-28T18:36:42.896822",
     "status": "completed"
    },
    "tags": []
   },
   "source": [
    "Checking for the duplicate values in our datasets. If any duplicated values found, we will remove them."
   ]
  },
  {
   "cell_type": "code",
   "execution_count": 15,
   "id": "ce3eb019",
   "metadata": {
    "execution": {
     "iopub.execute_input": "2021-12-28T18:36:43.015695Z",
     "iopub.status.busy": "2021-12-28T18:36:43.013257Z",
     "iopub.status.idle": "2021-12-28T18:36:43.032692Z",
     "shell.execute_reply": "2021-12-28T18:36:43.033242Z",
     "shell.execute_reply.started": "2021-12-28T18:26:28.622948Z"
    },
    "papermill": {
     "duration": 0.060915,
     "end_time": "2021-12-28T18:36:43.033440",
     "exception": false,
     "start_time": "2021-12-28T18:36:42.972525",
     "status": "completed"
    },
    "tags": []
   },
   "outputs": [
    {
     "data": {
      "text/html": [
       "<div>\n",
       "<style scoped>\n",
       "    .dataframe tbody tr th:only-of-type {\n",
       "        vertical-align: middle;\n",
       "    }\n",
       "\n",
       "    .dataframe tbody tr th {\n",
       "        vertical-align: top;\n",
       "    }\n",
       "\n",
       "    .dataframe thead th {\n",
       "        text-align: right;\n",
       "    }\n",
       "</style>\n",
       "<table border=\"1\" class=\"dataframe\">\n",
       "  <thead>\n",
       "    <tr style=\"text-align: right;\">\n",
       "      <th></th>\n",
       "      <th>Id</th>\n",
       "      <th>ActivityDate</th>\n",
       "      <th>TotalSteps</th>\n",
       "      <th>TotalDistance</th>\n",
       "      <th>TrackerDistance</th>\n",
       "      <th>LoggedActivitiesDistance</th>\n",
       "      <th>VeryActiveDistance</th>\n",
       "      <th>ModeratelyActiveDistance</th>\n",
       "      <th>LightActiveDistance</th>\n",
       "      <th>SedentaryActiveDistance</th>\n",
       "      <th>VeryActiveMinutes</th>\n",
       "      <th>FairlyActiveMinutes</th>\n",
       "      <th>LightlyActiveMinutes</th>\n",
       "      <th>SedentaryMinutes</th>\n",
       "      <th>Calories</th>\n",
       "    </tr>\n",
       "  </thead>\n",
       "  <tbody>\n",
       "  </tbody>\n",
       "</table>\n",
       "</div>"
      ],
      "text/plain": [
       "Empty DataFrame\n",
       "Columns: [Id, ActivityDate, TotalSteps, TotalDistance, TrackerDistance, LoggedActivitiesDistance, VeryActiveDistance, ModeratelyActiveDistance, LightActiveDistance, SedentaryActiveDistance, VeryActiveMinutes, FairlyActiveMinutes, LightlyActiveMinutes, SedentaryMinutes, Calories]\n",
       "Index: []"
      ]
     },
     "execution_count": 15,
     "metadata": {},
     "output_type": "execute_result"
    }
   ],
   "source": [
    "daily_activity[daily_activity.duplicated()]"
   ]
  },
  {
   "cell_type": "code",
   "execution_count": 16,
   "id": "0477a685",
   "metadata": {
    "execution": {
     "iopub.execute_input": "2021-12-28T18:36:43.114683Z",
     "iopub.status.busy": "2021-12-28T18:36:43.114035Z",
     "iopub.status.idle": "2021-12-28T18:36:43.124583Z",
     "shell.execute_reply": "2021-12-28T18:36:43.124078Z",
     "shell.execute_reply.started": "2021-12-28T18:26:31.342879Z"
    },
    "papermill": {
     "duration": 0.053968,
     "end_time": "2021-12-28T18:36:43.124728",
     "exception": false,
     "start_time": "2021-12-28T18:36:43.070760",
     "status": "completed"
    },
    "tags": []
   },
   "outputs": [
    {
     "data": {
      "text/html": [
       "<div>\n",
       "<style scoped>\n",
       "    .dataframe tbody tr th:only-of-type {\n",
       "        vertical-align: middle;\n",
       "    }\n",
       "\n",
       "    .dataframe tbody tr th {\n",
       "        vertical-align: top;\n",
       "    }\n",
       "\n",
       "    .dataframe thead th {\n",
       "        text-align: right;\n",
       "    }\n",
       "</style>\n",
       "<table border=\"1\" class=\"dataframe\">\n",
       "  <thead>\n",
       "    <tr style=\"text-align: right;\">\n",
       "      <th></th>\n",
       "      <th>Id</th>\n",
       "      <th>SleepDay</th>\n",
       "      <th>TotalSleepRecords</th>\n",
       "      <th>TotalMinutesAsleep</th>\n",
       "      <th>TotalTimeInBed</th>\n",
       "    </tr>\n",
       "  </thead>\n",
       "  <tbody>\n",
       "    <tr>\n",
       "      <th>161</th>\n",
       "      <td>4388161847</td>\n",
       "      <td>2016-05-05</td>\n",
       "      <td>1</td>\n",
       "      <td>471</td>\n",
       "      <td>495</td>\n",
       "    </tr>\n",
       "    <tr>\n",
       "      <th>223</th>\n",
       "      <td>4702921684</td>\n",
       "      <td>2016-07-05</td>\n",
       "      <td>1</td>\n",
       "      <td>520</td>\n",
       "      <td>543</td>\n",
       "    </tr>\n",
       "    <tr>\n",
       "      <th>380</th>\n",
       "      <td>8378563200</td>\n",
       "      <td>2016-04-25</td>\n",
       "      <td>1</td>\n",
       "      <td>388</td>\n",
       "      <td>402</td>\n",
       "    </tr>\n",
       "  </tbody>\n",
       "</table>\n",
       "</div>"
      ],
      "text/plain": [
       "             Id   SleepDay  TotalSleepRecords  TotalMinutesAsleep  \\\n",
       "161  4388161847 2016-05-05                  1                 471   \n",
       "223  4702921684 2016-07-05                  1                 520   \n",
       "380  8378563200 2016-04-25                  1                 388   \n",
       "\n",
       "     TotalTimeInBed  \n",
       "161             495  \n",
       "223             543  \n",
       "380             402  "
      ]
     },
     "execution_count": 16,
     "metadata": {},
     "output_type": "execute_result"
    }
   ],
   "source": [
    "sleep[sleep.duplicated()]"
   ]
  },
  {
   "cell_type": "code",
   "execution_count": 17,
   "id": "cc951c49",
   "metadata": {
    "execution": {
     "iopub.execute_input": "2021-12-28T18:36:43.208348Z",
     "iopub.status.busy": "2021-12-28T18:36:43.207573Z",
     "iopub.status.idle": "2021-12-28T18:36:43.210022Z",
     "shell.execute_reply": "2021-12-28T18:36:43.210502Z",
     "shell.execute_reply.started": "2021-12-28T18:26:33.827555Z"
    },
    "papermill": {
     "duration": 0.048202,
     "end_time": "2021-12-28T18:36:43.210685",
     "exception": false,
     "start_time": "2021-12-28T18:36:43.162483",
     "status": "completed"
    },
    "tags": []
   },
   "outputs": [],
   "source": [
    "sleep = sleep.drop_duplicates()"
   ]
  },
  {
   "cell_type": "code",
   "execution_count": 18,
   "id": "b2ef2682",
   "metadata": {
    "execution": {
     "iopub.execute_input": "2021-12-28T18:36:43.293838Z",
     "iopub.status.busy": "2021-12-28T18:36:43.293135Z",
     "iopub.status.idle": "2021-12-28T18:36:43.301246Z",
     "shell.execute_reply": "2021-12-28T18:36:43.300763Z",
     "shell.execute_reply.started": "2021-12-28T18:26:36.822546Z"
    },
    "papermill": {
     "duration": 0.051563,
     "end_time": "2021-12-28T18:36:43.301422",
     "exception": false,
     "start_time": "2021-12-28T18:36:43.249859",
     "status": "completed"
    },
    "tags": []
   },
   "outputs": [
    {
     "data": {
      "text/html": [
       "<div>\n",
       "<style scoped>\n",
       "    .dataframe tbody tr th:only-of-type {\n",
       "        vertical-align: middle;\n",
       "    }\n",
       "\n",
       "    .dataframe tbody tr th {\n",
       "        vertical-align: top;\n",
       "    }\n",
       "\n",
       "    .dataframe thead th {\n",
       "        text-align: right;\n",
       "    }\n",
       "</style>\n",
       "<table border=\"1\" class=\"dataframe\">\n",
       "  <thead>\n",
       "    <tr style=\"text-align: right;\">\n",
       "      <th></th>\n",
       "      <th>Id</th>\n",
       "      <th>SleepDay</th>\n",
       "      <th>TotalSleepRecords</th>\n",
       "      <th>TotalMinutesAsleep</th>\n",
       "      <th>TotalTimeInBed</th>\n",
       "    </tr>\n",
       "  </thead>\n",
       "  <tbody>\n",
       "  </tbody>\n",
       "</table>\n",
       "</div>"
      ],
      "text/plain": [
       "Empty DataFrame\n",
       "Columns: [Id, SleepDay, TotalSleepRecords, TotalMinutesAsleep, TotalTimeInBed]\n",
       "Index: []"
      ]
     },
     "execution_count": 18,
     "metadata": {},
     "output_type": "execute_result"
    }
   ],
   "source": [
    "sleep[sleep.duplicated()]"
   ]
  },
  {
   "cell_type": "code",
   "execution_count": 19,
   "id": "927a4181",
   "metadata": {
    "execution": {
     "iopub.execute_input": "2021-12-28T18:36:43.381945Z",
     "iopub.status.busy": "2021-12-28T18:36:43.381163Z",
     "iopub.status.idle": "2021-12-28T18:36:43.392302Z",
     "shell.execute_reply": "2021-12-28T18:36:43.392869Z",
     "shell.execute_reply.started": "2021-12-28T18:26:39.297802Z"
    },
    "papermill": {
     "duration": 0.053129,
     "end_time": "2021-12-28T18:36:43.393054",
     "exception": false,
     "start_time": "2021-12-28T18:36:43.339925",
     "status": "completed"
    },
    "tags": []
   },
   "outputs": [
    {
     "data": {
      "text/html": [
       "<div>\n",
       "<style scoped>\n",
       "    .dataframe tbody tr th:only-of-type {\n",
       "        vertical-align: middle;\n",
       "    }\n",
       "\n",
       "    .dataframe tbody tr th {\n",
       "        vertical-align: top;\n",
       "    }\n",
       "\n",
       "    .dataframe thead th {\n",
       "        text-align: right;\n",
       "    }\n",
       "</style>\n",
       "<table border=\"1\" class=\"dataframe\">\n",
       "  <thead>\n",
       "    <tr style=\"text-align: right;\">\n",
       "      <th></th>\n",
       "      <th>Id</th>\n",
       "      <th>ActivityHour</th>\n",
       "      <th>TotalIntensity</th>\n",
       "      <th>AverageIntensity</th>\n",
       "    </tr>\n",
       "  </thead>\n",
       "  <tbody>\n",
       "  </tbody>\n",
       "</table>\n",
       "</div>"
      ],
      "text/plain": [
       "Empty DataFrame\n",
       "Columns: [Id, ActivityHour, TotalIntensity, AverageIntensity]\n",
       "Index: []"
      ]
     },
     "execution_count": 19,
     "metadata": {},
     "output_type": "execute_result"
    }
   ],
   "source": [
    "hourly_intensities[hourly_intensities.duplicated()]"
   ]
  },
  {
   "cell_type": "markdown",
   "id": "0e53468e",
   "metadata": {
    "papermill": {
     "duration": 0.038769,
     "end_time": "2021-12-28T18:36:43.470390",
     "exception": false,
     "start_time": "2021-12-28T18:36:43.431621",
     "status": "completed"
    },
    "tags": []
   },
   "source": [
    "**Let's check out the number of participants in the datasets**"
   ]
  },
  {
   "cell_type": "code",
   "execution_count": 20,
   "id": "98e5495c",
   "metadata": {
    "execution": {
     "iopub.execute_input": "2021-12-28T18:36:43.551748Z",
     "iopub.status.busy": "2021-12-28T18:36:43.551095Z",
     "iopub.status.idle": "2021-12-28T18:36:43.555953Z",
     "shell.execute_reply": "2021-12-28T18:36:43.556453Z",
     "shell.execute_reply.started": "2021-12-28T18:26:42.163057Z"
    },
    "papermill": {
     "duration": 0.048061,
     "end_time": "2021-12-28T18:36:43.556617",
     "exception": false,
     "start_time": "2021-12-28T18:36:43.508556",
     "status": "completed"
    },
    "tags": []
   },
   "outputs": [
    {
     "data": {
      "text/plain": [
       "33"
      ]
     },
     "execution_count": 20,
     "metadata": {},
     "output_type": "execute_result"
    }
   ],
   "source": [
    "daily_activity['Id'].nunique()"
   ]
  },
  {
   "cell_type": "code",
   "execution_count": 21,
   "id": "70e3c47a",
   "metadata": {
    "execution": {
     "iopub.execute_input": "2021-12-28T18:36:43.636654Z",
     "iopub.status.busy": "2021-12-28T18:36:43.635988Z",
     "iopub.status.idle": "2021-12-28T18:36:43.642254Z",
     "shell.execute_reply": "2021-12-28T18:36:43.641747Z",
     "shell.execute_reply.started": "2021-12-28T18:26:44.737604Z"
    },
    "papermill": {
     "duration": 0.047383,
     "end_time": "2021-12-28T18:36:43.642410",
     "exception": false,
     "start_time": "2021-12-28T18:36:43.595027",
     "status": "completed"
    },
    "tags": []
   },
   "outputs": [
    {
     "data": {
      "text/plain": [
       "24"
      ]
     },
     "execution_count": 21,
     "metadata": {},
     "output_type": "execute_result"
    }
   ],
   "source": [
    "sleep['Id'].nunique()"
   ]
  },
  {
   "cell_type": "code",
   "execution_count": 22,
   "id": "02aef0de",
   "metadata": {
    "execution": {
     "iopub.execute_input": "2021-12-28T18:36:43.727526Z",
     "iopub.status.busy": "2021-12-28T18:36:43.726476Z",
     "iopub.status.idle": "2021-12-28T18:36:43.730681Z",
     "shell.execute_reply": "2021-12-28T18:36:43.731092Z",
     "shell.execute_reply.started": "2021-12-28T18:26:47.042567Z"
    },
    "papermill": {
     "duration": 0.048306,
     "end_time": "2021-12-28T18:36:43.731261",
     "exception": false,
     "start_time": "2021-12-28T18:36:43.682955",
     "status": "completed"
    },
    "tags": []
   },
   "outputs": [
    {
     "data": {
      "text/plain": [
       "33"
      ]
     },
     "execution_count": 22,
     "metadata": {},
     "output_type": "execute_result"
    }
   ],
   "source": [
    "hourly_intensities['Id'].nunique()"
   ]
  },
  {
   "cell_type": "markdown",
   "id": "19d8b589",
   "metadata": {
    "papermill": {
     "duration": 0.03826,
     "end_time": "2021-12-28T18:36:43.810723",
     "exception": false,
     "start_time": "2021-12-28T18:36:43.772463",
     "status": "completed"
    },
    "tags": []
   },
   "source": [
    "There are 33 participants in the daily_activity, 24 in the sleep and 33 in the hourly_intensities  data set."
   ]
  },
  {
   "cell_type": "code",
   "execution_count": 23,
   "id": "f43e6f69",
   "metadata": {
    "execution": {
     "iopub.execute_input": "2021-12-28T18:36:43.892083Z",
     "iopub.status.busy": "2021-12-28T18:36:43.891136Z",
     "iopub.status.idle": "2021-12-28T18:36:43.937134Z",
     "shell.execute_reply": "2021-12-28T18:36:43.937775Z",
     "shell.execute_reply.started": "2021-12-28T18:27:05.009155Z"
    },
    "papermill": {
     "duration": 0.088569,
     "end_time": "2021-12-28T18:36:43.937964",
     "exception": false,
     "start_time": "2021-12-28T18:36:43.849395",
     "status": "completed"
    },
    "tags": []
   },
   "outputs": [
    {
     "data": {
      "text/html": [
       "<div>\n",
       "<style scoped>\n",
       "    .dataframe tbody tr th:only-of-type {\n",
       "        vertical-align: middle;\n",
       "    }\n",
       "\n",
       "    .dataframe tbody tr th {\n",
       "        vertical-align: top;\n",
       "    }\n",
       "\n",
       "    .dataframe thead th {\n",
       "        text-align: right;\n",
       "    }\n",
       "</style>\n",
       "<table border=\"1\" class=\"dataframe\">\n",
       "  <thead>\n",
       "    <tr style=\"text-align: right;\">\n",
       "      <th></th>\n",
       "      <th>count</th>\n",
       "      <th>mean</th>\n",
       "      <th>std</th>\n",
       "      <th>min</th>\n",
       "      <th>25%</th>\n",
       "      <th>50%</th>\n",
       "      <th>75%</th>\n",
       "      <th>max</th>\n",
       "    </tr>\n",
       "  </thead>\n",
       "  <tbody>\n",
       "    <tr>\n",
       "      <th>Id</th>\n",
       "      <td>940.0</td>\n",
       "      <td>4.855407e+09</td>\n",
       "      <td>2.424805e+09</td>\n",
       "      <td>1.503960e+09</td>\n",
       "      <td>2.320127e+09</td>\n",
       "      <td>4.445115e+09</td>\n",
       "      <td>6.962181e+09</td>\n",
       "      <td>8.877689e+09</td>\n",
       "    </tr>\n",
       "    <tr>\n",
       "      <th>TotalSteps</th>\n",
       "      <td>940.0</td>\n",
       "      <td>7.637911e+03</td>\n",
       "      <td>5.087151e+03</td>\n",
       "      <td>0.000000e+00</td>\n",
       "      <td>3.789750e+03</td>\n",
       "      <td>7.405500e+03</td>\n",
       "      <td>1.072700e+04</td>\n",
       "      <td>3.601900e+04</td>\n",
       "    </tr>\n",
       "    <tr>\n",
       "      <th>TotalDistance</th>\n",
       "      <td>940.0</td>\n",
       "      <td>5.489702e+00</td>\n",
       "      <td>3.924606e+00</td>\n",
       "      <td>0.000000e+00</td>\n",
       "      <td>2.620000e+00</td>\n",
       "      <td>5.245000e+00</td>\n",
       "      <td>7.712500e+00</td>\n",
       "      <td>2.803000e+01</td>\n",
       "    </tr>\n",
       "    <tr>\n",
       "      <th>TrackerDistance</th>\n",
       "      <td>940.0</td>\n",
       "      <td>5.475351e+00</td>\n",
       "      <td>3.907276e+00</td>\n",
       "      <td>0.000000e+00</td>\n",
       "      <td>2.620000e+00</td>\n",
       "      <td>5.245000e+00</td>\n",
       "      <td>7.710000e+00</td>\n",
       "      <td>2.803000e+01</td>\n",
       "    </tr>\n",
       "    <tr>\n",
       "      <th>LoggedActivitiesDistance</th>\n",
       "      <td>940.0</td>\n",
       "      <td>1.081709e-01</td>\n",
       "      <td>6.198965e-01</td>\n",
       "      <td>0.000000e+00</td>\n",
       "      <td>0.000000e+00</td>\n",
       "      <td>0.000000e+00</td>\n",
       "      <td>0.000000e+00</td>\n",
       "      <td>4.942142e+00</td>\n",
       "    </tr>\n",
       "    <tr>\n",
       "      <th>VeryActiveDistance</th>\n",
       "      <td>940.0</td>\n",
       "      <td>1.502681e+00</td>\n",
       "      <td>2.658941e+00</td>\n",
       "      <td>0.000000e+00</td>\n",
       "      <td>0.000000e+00</td>\n",
       "      <td>2.100000e-01</td>\n",
       "      <td>2.052500e+00</td>\n",
       "      <td>2.192000e+01</td>\n",
       "    </tr>\n",
       "    <tr>\n",
       "      <th>ModeratelyActiveDistance</th>\n",
       "      <td>940.0</td>\n",
       "      <td>5.675426e-01</td>\n",
       "      <td>8.835803e-01</td>\n",
       "      <td>0.000000e+00</td>\n",
       "      <td>0.000000e+00</td>\n",
       "      <td>2.400000e-01</td>\n",
       "      <td>8.000000e-01</td>\n",
       "      <td>6.480000e+00</td>\n",
       "    </tr>\n",
       "    <tr>\n",
       "      <th>LightActiveDistance</th>\n",
       "      <td>940.0</td>\n",
       "      <td>3.340819e+00</td>\n",
       "      <td>2.040655e+00</td>\n",
       "      <td>0.000000e+00</td>\n",
       "      <td>1.945000e+00</td>\n",
       "      <td>3.365000e+00</td>\n",
       "      <td>4.782500e+00</td>\n",
       "      <td>1.071000e+01</td>\n",
       "    </tr>\n",
       "    <tr>\n",
       "      <th>SedentaryActiveDistance</th>\n",
       "      <td>940.0</td>\n",
       "      <td>1.606383e-03</td>\n",
       "      <td>7.346176e-03</td>\n",
       "      <td>0.000000e+00</td>\n",
       "      <td>0.000000e+00</td>\n",
       "      <td>0.000000e+00</td>\n",
       "      <td>0.000000e+00</td>\n",
       "      <td>1.100000e-01</td>\n",
       "    </tr>\n",
       "    <tr>\n",
       "      <th>VeryActiveMinutes</th>\n",
       "      <td>940.0</td>\n",
       "      <td>2.116489e+01</td>\n",
       "      <td>3.284480e+01</td>\n",
       "      <td>0.000000e+00</td>\n",
       "      <td>0.000000e+00</td>\n",
       "      <td>4.000000e+00</td>\n",
       "      <td>3.200000e+01</td>\n",
       "      <td>2.100000e+02</td>\n",
       "    </tr>\n",
       "    <tr>\n",
       "      <th>FairlyActiveMinutes</th>\n",
       "      <td>940.0</td>\n",
       "      <td>1.356489e+01</td>\n",
       "      <td>1.998740e+01</td>\n",
       "      <td>0.000000e+00</td>\n",
       "      <td>0.000000e+00</td>\n",
       "      <td>6.000000e+00</td>\n",
       "      <td>1.900000e+01</td>\n",
       "      <td>1.430000e+02</td>\n",
       "    </tr>\n",
       "    <tr>\n",
       "      <th>LightlyActiveMinutes</th>\n",
       "      <td>940.0</td>\n",
       "      <td>1.928128e+02</td>\n",
       "      <td>1.091747e+02</td>\n",
       "      <td>0.000000e+00</td>\n",
       "      <td>1.270000e+02</td>\n",
       "      <td>1.990000e+02</td>\n",
       "      <td>2.640000e+02</td>\n",
       "      <td>5.180000e+02</td>\n",
       "    </tr>\n",
       "    <tr>\n",
       "      <th>SedentaryMinutes</th>\n",
       "      <td>940.0</td>\n",
       "      <td>9.912106e+02</td>\n",
       "      <td>3.012674e+02</td>\n",
       "      <td>0.000000e+00</td>\n",
       "      <td>7.297500e+02</td>\n",
       "      <td>1.057500e+03</td>\n",
       "      <td>1.229500e+03</td>\n",
       "      <td>1.440000e+03</td>\n",
       "    </tr>\n",
       "    <tr>\n",
       "      <th>Calories</th>\n",
       "      <td>940.0</td>\n",
       "      <td>2.303610e+03</td>\n",
       "      <td>7.181669e+02</td>\n",
       "      <td>0.000000e+00</td>\n",
       "      <td>1.828500e+03</td>\n",
       "      <td>2.134000e+03</td>\n",
       "      <td>2.793250e+03</td>\n",
       "      <td>4.900000e+03</td>\n",
       "    </tr>\n",
       "  </tbody>\n",
       "</table>\n",
       "</div>"
      ],
      "text/plain": [
       "                          count          mean           std           min  \\\n",
       "Id                        940.0  4.855407e+09  2.424805e+09  1.503960e+09   \n",
       "TotalSteps                940.0  7.637911e+03  5.087151e+03  0.000000e+00   \n",
       "TotalDistance             940.0  5.489702e+00  3.924606e+00  0.000000e+00   \n",
       "TrackerDistance           940.0  5.475351e+00  3.907276e+00  0.000000e+00   \n",
       "LoggedActivitiesDistance  940.0  1.081709e-01  6.198965e-01  0.000000e+00   \n",
       "VeryActiveDistance        940.0  1.502681e+00  2.658941e+00  0.000000e+00   \n",
       "ModeratelyActiveDistance  940.0  5.675426e-01  8.835803e-01  0.000000e+00   \n",
       "LightActiveDistance       940.0  3.340819e+00  2.040655e+00  0.000000e+00   \n",
       "SedentaryActiveDistance   940.0  1.606383e-03  7.346176e-03  0.000000e+00   \n",
       "VeryActiveMinutes         940.0  2.116489e+01  3.284480e+01  0.000000e+00   \n",
       "FairlyActiveMinutes       940.0  1.356489e+01  1.998740e+01  0.000000e+00   \n",
       "LightlyActiveMinutes      940.0  1.928128e+02  1.091747e+02  0.000000e+00   \n",
       "SedentaryMinutes          940.0  9.912106e+02  3.012674e+02  0.000000e+00   \n",
       "Calories                  940.0  2.303610e+03  7.181669e+02  0.000000e+00   \n",
       "\n",
       "                                   25%           50%           75%  \\\n",
       "Id                        2.320127e+09  4.445115e+09  6.962181e+09   \n",
       "TotalSteps                3.789750e+03  7.405500e+03  1.072700e+04   \n",
       "TotalDistance             2.620000e+00  5.245000e+00  7.712500e+00   \n",
       "TrackerDistance           2.620000e+00  5.245000e+00  7.710000e+00   \n",
       "LoggedActivitiesDistance  0.000000e+00  0.000000e+00  0.000000e+00   \n",
       "VeryActiveDistance        0.000000e+00  2.100000e-01  2.052500e+00   \n",
       "ModeratelyActiveDistance  0.000000e+00  2.400000e-01  8.000000e-01   \n",
       "LightActiveDistance       1.945000e+00  3.365000e+00  4.782500e+00   \n",
       "SedentaryActiveDistance   0.000000e+00  0.000000e+00  0.000000e+00   \n",
       "VeryActiveMinutes         0.000000e+00  4.000000e+00  3.200000e+01   \n",
       "FairlyActiveMinutes       0.000000e+00  6.000000e+00  1.900000e+01   \n",
       "LightlyActiveMinutes      1.270000e+02  1.990000e+02  2.640000e+02   \n",
       "SedentaryMinutes          7.297500e+02  1.057500e+03  1.229500e+03   \n",
       "Calories                  1.828500e+03  2.134000e+03  2.793250e+03   \n",
       "\n",
       "                                   max  \n",
       "Id                        8.877689e+09  \n",
       "TotalSteps                3.601900e+04  \n",
       "TotalDistance             2.803000e+01  \n",
       "TrackerDistance           2.803000e+01  \n",
       "LoggedActivitiesDistance  4.942142e+00  \n",
       "VeryActiveDistance        2.192000e+01  \n",
       "ModeratelyActiveDistance  6.480000e+00  \n",
       "LightActiveDistance       1.071000e+01  \n",
       "SedentaryActiveDistance   1.100000e-01  \n",
       "VeryActiveMinutes         2.100000e+02  \n",
       "FairlyActiveMinutes       1.430000e+02  \n",
       "LightlyActiveMinutes      5.180000e+02  \n",
       "SedentaryMinutes          1.440000e+03  \n",
       "Calories                  4.900000e+03  "
      ]
     },
     "execution_count": 23,
     "metadata": {},
     "output_type": "execute_result"
    }
   ],
   "source": [
    "daily_activity.describe().transpose()"
   ]
  },
  {
   "cell_type": "markdown",
   "id": "2a7767f4",
   "metadata": {
    "papermill": {
     "duration": 0.039279,
     "end_time": "2021-12-28T18:36:44.019232",
     "exception": false,
     "start_time": "2021-12-28T18:36:43.979953",
     "status": "completed"
    },
    "tags": []
   },
   "source": [
    "**According to the above summary, average 'Sedentary Minutes'are 991 minutes i.e. more than 16 hours which is pretty high.**"
   ]
  },
  {
   "cell_type": "code",
   "execution_count": 24,
   "id": "0b247f2a",
   "metadata": {
    "execution": {
     "iopub.execute_input": "2021-12-28T18:36:44.102841Z",
     "iopub.status.busy": "2021-12-28T18:36:44.101859Z",
     "iopub.status.idle": "2021-12-28T18:36:44.120707Z",
     "shell.execute_reply": "2021-12-28T18:36:44.121191Z",
     "shell.execute_reply.started": "2021-12-28T18:27:14.965376Z"
    },
    "papermill": {
     "duration": 0.062521,
     "end_time": "2021-12-28T18:36:44.121375",
     "exception": false,
     "start_time": "2021-12-28T18:36:44.058854",
     "status": "completed"
    },
    "tags": []
   },
   "outputs": [
    {
     "data": {
      "text/html": [
       "<div>\n",
       "<style scoped>\n",
       "    .dataframe tbody tr th:only-of-type {\n",
       "        vertical-align: middle;\n",
       "    }\n",
       "\n",
       "    .dataframe tbody tr th {\n",
       "        vertical-align: top;\n",
       "    }\n",
       "\n",
       "    .dataframe thead th {\n",
       "        text-align: right;\n",
       "    }\n",
       "</style>\n",
       "<table border=\"1\" class=\"dataframe\">\n",
       "  <thead>\n",
       "    <tr style=\"text-align: right;\">\n",
       "      <th></th>\n",
       "      <th>Id</th>\n",
       "      <th>TotalSleepRecords</th>\n",
       "      <th>TotalMinutesAsleep</th>\n",
       "      <th>TotalTimeInBed</th>\n",
       "    </tr>\n",
       "  </thead>\n",
       "  <tbody>\n",
       "    <tr>\n",
       "      <th>count</th>\n",
       "      <td>4.100000e+02</td>\n",
       "      <td>410.000000</td>\n",
       "      <td>410.000000</td>\n",
       "      <td>410.000000</td>\n",
       "    </tr>\n",
       "    <tr>\n",
       "      <th>mean</th>\n",
       "      <td>4.994963e+09</td>\n",
       "      <td>1.119512</td>\n",
       "      <td>419.173171</td>\n",
       "      <td>458.482927</td>\n",
       "    </tr>\n",
       "    <tr>\n",
       "      <th>std</th>\n",
       "      <td>2.060863e+09</td>\n",
       "      <td>0.346636</td>\n",
       "      <td>118.635918</td>\n",
       "      <td>127.455140</td>\n",
       "    </tr>\n",
       "    <tr>\n",
       "      <th>min</th>\n",
       "      <td>1.503960e+09</td>\n",
       "      <td>1.000000</td>\n",
       "      <td>58.000000</td>\n",
       "      <td>61.000000</td>\n",
       "    </tr>\n",
       "    <tr>\n",
       "      <th>25%</th>\n",
       "      <td>3.977334e+09</td>\n",
       "      <td>1.000000</td>\n",
       "      <td>361.000000</td>\n",
       "      <td>403.750000</td>\n",
       "    </tr>\n",
       "    <tr>\n",
       "      <th>50%</th>\n",
       "      <td>4.702922e+09</td>\n",
       "      <td>1.000000</td>\n",
       "      <td>432.500000</td>\n",
       "      <td>463.000000</td>\n",
       "    </tr>\n",
       "    <tr>\n",
       "      <th>75%</th>\n",
       "      <td>6.962181e+09</td>\n",
       "      <td>1.000000</td>\n",
       "      <td>490.000000</td>\n",
       "      <td>526.000000</td>\n",
       "    </tr>\n",
       "    <tr>\n",
       "      <th>max</th>\n",
       "      <td>8.792010e+09</td>\n",
       "      <td>3.000000</td>\n",
       "      <td>796.000000</td>\n",
       "      <td>961.000000</td>\n",
       "    </tr>\n",
       "  </tbody>\n",
       "</table>\n",
       "</div>"
      ],
      "text/plain": [
       "                 Id  TotalSleepRecords  TotalMinutesAsleep  TotalTimeInBed\n",
       "count  4.100000e+02         410.000000          410.000000      410.000000\n",
       "mean   4.994963e+09           1.119512          419.173171      458.482927\n",
       "std    2.060863e+09           0.346636          118.635918      127.455140\n",
       "min    1.503960e+09           1.000000           58.000000       61.000000\n",
       "25%    3.977334e+09           1.000000          361.000000      403.750000\n",
       "50%    4.702922e+09           1.000000          432.500000      463.000000\n",
       "75%    6.962181e+09           1.000000          490.000000      526.000000\n",
       "max    8.792010e+09           3.000000          796.000000      961.000000"
      ]
     },
     "execution_count": 24,
     "metadata": {},
     "output_type": "execute_result"
    }
   ],
   "source": [
    "sleep.describe()"
   ]
  },
  {
   "cell_type": "markdown",
   "id": "035dc898",
   "metadata": {
    "papermill": {
     "duration": 0.039583,
     "end_time": "2021-12-28T18:36:44.201603",
     "exception": false,
     "start_time": "2021-12-28T18:36:44.162020",
     "status": "completed"
    },
    "tags": []
   },
   "source": [
    "**Above summary shows that the average sleep is around 7 hours.**"
   ]
  },
  {
   "cell_type": "code",
   "execution_count": 25,
   "id": "4c255934",
   "metadata": {
    "execution": {
     "iopub.execute_input": "2021-12-28T18:36:44.286745Z",
     "iopub.status.busy": "2021-12-28T18:36:44.286081Z",
     "iopub.status.idle": "2021-12-28T18:36:44.302699Z",
     "shell.execute_reply": "2021-12-28T18:36:44.303223Z",
     "shell.execute_reply.started": "2021-12-28T18:27:18.183592Z"
    },
    "papermill": {
     "duration": 0.062118,
     "end_time": "2021-12-28T18:36:44.303404",
     "exception": false,
     "start_time": "2021-12-28T18:36:44.241286",
     "status": "completed"
    },
    "tags": []
   },
   "outputs": [
    {
     "data": {
      "text/html": [
       "<div>\n",
       "<style scoped>\n",
       "    .dataframe tbody tr th:only-of-type {\n",
       "        vertical-align: middle;\n",
       "    }\n",
       "\n",
       "    .dataframe tbody tr th {\n",
       "        vertical-align: top;\n",
       "    }\n",
       "\n",
       "    .dataframe thead th {\n",
       "        text-align: right;\n",
       "    }\n",
       "</style>\n",
       "<table border=\"1\" class=\"dataframe\">\n",
       "  <thead>\n",
       "    <tr style=\"text-align: right;\">\n",
       "      <th></th>\n",
       "      <th>Id</th>\n",
       "      <th>TotalIntensity</th>\n",
       "      <th>AverageIntensity</th>\n",
       "    </tr>\n",
       "  </thead>\n",
       "  <tbody>\n",
       "    <tr>\n",
       "      <th>count</th>\n",
       "      <td>2.209900e+04</td>\n",
       "      <td>22099.000000</td>\n",
       "      <td>22099.000000</td>\n",
       "    </tr>\n",
       "    <tr>\n",
       "      <th>mean</th>\n",
       "      <td>4.848235e+09</td>\n",
       "      <td>12.035341</td>\n",
       "      <td>0.200589</td>\n",
       "    </tr>\n",
       "    <tr>\n",
       "      <th>std</th>\n",
       "      <td>2.422500e+09</td>\n",
       "      <td>21.133110</td>\n",
       "      <td>0.352219</td>\n",
       "    </tr>\n",
       "    <tr>\n",
       "      <th>min</th>\n",
       "      <td>1.503960e+09</td>\n",
       "      <td>0.000000</td>\n",
       "      <td>0.000000</td>\n",
       "    </tr>\n",
       "    <tr>\n",
       "      <th>25%</th>\n",
       "      <td>2.320127e+09</td>\n",
       "      <td>0.000000</td>\n",
       "      <td>0.000000</td>\n",
       "    </tr>\n",
       "    <tr>\n",
       "      <th>50%</th>\n",
       "      <td>4.445115e+09</td>\n",
       "      <td>3.000000</td>\n",
       "      <td>0.050000</td>\n",
       "    </tr>\n",
       "    <tr>\n",
       "      <th>75%</th>\n",
       "      <td>6.962181e+09</td>\n",
       "      <td>16.000000</td>\n",
       "      <td>0.266667</td>\n",
       "    </tr>\n",
       "    <tr>\n",
       "      <th>max</th>\n",
       "      <td>8.877689e+09</td>\n",
       "      <td>180.000000</td>\n",
       "      <td>3.000000</td>\n",
       "    </tr>\n",
       "  </tbody>\n",
       "</table>\n",
       "</div>"
      ],
      "text/plain": [
       "                 Id  TotalIntensity  AverageIntensity\n",
       "count  2.209900e+04    22099.000000      22099.000000\n",
       "mean   4.848235e+09       12.035341          0.200589\n",
       "std    2.422500e+09       21.133110          0.352219\n",
       "min    1.503960e+09        0.000000          0.000000\n",
       "25%    2.320127e+09        0.000000          0.000000\n",
       "50%    4.445115e+09        3.000000          0.050000\n",
       "75%    6.962181e+09       16.000000          0.266667\n",
       "max    8.877689e+09      180.000000          3.000000"
      ]
     },
     "execution_count": 25,
     "metadata": {},
     "output_type": "execute_result"
    }
   ],
   "source": [
    "hourly_intensities.describe()"
   ]
  },
  {
   "cell_type": "markdown",
   "id": "63b92324",
   "metadata": {
    "papermill": {
     "duration": 0.039626,
     "end_time": "2021-12-28T18:36:44.383306",
     "exception": false,
     "start_time": "2021-12-28T18:36:44.343680",
     "status": "completed"
    },
    "tags": []
   },
   "source": [
    "Let's create a new column 'Total Hours' to convert total active minutes in to hours."
   ]
  },
  {
   "cell_type": "code",
   "execution_count": 26,
   "id": "9ac09919",
   "metadata": {
    "execution": {
     "iopub.execute_input": "2021-12-28T18:36:44.467231Z",
     "iopub.status.busy": "2021-12-28T18:36:44.466650Z",
     "iopub.status.idle": "2021-12-28T18:36:44.471762Z",
     "shell.execute_reply": "2021-12-28T18:36:44.472361Z",
     "shell.execute_reply.started": "2021-12-28T18:27:26.384012Z"
    },
    "papermill": {
     "duration": 0.049033,
     "end_time": "2021-12-28T18:36:44.472541",
     "exception": false,
     "start_time": "2021-12-28T18:36:44.423508",
     "status": "completed"
    },
    "tags": []
   },
   "outputs": [],
   "source": [
    "daily_activity['Total_Hours'] = (daily_activity['VeryActiveMinutes'] + daily_activity['FairlyActiveMinutes'] + daily_activity['LightlyActiveMinutes'] + daily_activity['SedentaryMinutes']) / 60"
   ]
  },
  {
   "cell_type": "code",
   "execution_count": 27,
   "id": "4c076d1c",
   "metadata": {
    "execution": {
     "iopub.execute_input": "2021-12-28T18:36:44.556958Z",
     "iopub.status.busy": "2021-12-28T18:36:44.556344Z",
     "iopub.status.idle": "2021-12-28T18:36:44.574008Z",
     "shell.execute_reply": "2021-12-28T18:36:44.574543Z",
     "shell.execute_reply.started": "2021-12-28T18:27:31.002901Z"
    },
    "papermill": {
     "duration": 0.062091,
     "end_time": "2021-12-28T18:36:44.574720",
     "exception": false,
     "start_time": "2021-12-28T18:36:44.512629",
     "status": "completed"
    },
    "tags": []
   },
   "outputs": [
    {
     "data": {
      "text/html": [
       "<div>\n",
       "<style scoped>\n",
       "    .dataframe tbody tr th:only-of-type {\n",
       "        vertical-align: middle;\n",
       "    }\n",
       "\n",
       "    .dataframe tbody tr th {\n",
       "        vertical-align: top;\n",
       "    }\n",
       "\n",
       "    .dataframe thead th {\n",
       "        text-align: right;\n",
       "    }\n",
       "</style>\n",
       "<table border=\"1\" class=\"dataframe\">\n",
       "  <thead>\n",
       "    <tr style=\"text-align: right;\">\n",
       "      <th></th>\n",
       "      <th>Id</th>\n",
       "      <th>ActivityDate</th>\n",
       "      <th>TotalSteps</th>\n",
       "      <th>TotalDistance</th>\n",
       "      <th>TrackerDistance</th>\n",
       "      <th>LoggedActivitiesDistance</th>\n",
       "      <th>VeryActiveDistance</th>\n",
       "      <th>ModeratelyActiveDistance</th>\n",
       "      <th>LightActiveDistance</th>\n",
       "      <th>SedentaryActiveDistance</th>\n",
       "      <th>VeryActiveMinutes</th>\n",
       "      <th>FairlyActiveMinutes</th>\n",
       "      <th>LightlyActiveMinutes</th>\n",
       "      <th>SedentaryMinutes</th>\n",
       "      <th>Calories</th>\n",
       "      <th>Total_Hours</th>\n",
       "    </tr>\n",
       "  </thead>\n",
       "  <tbody>\n",
       "    <tr>\n",
       "      <th>0</th>\n",
       "      <td>1503960366</td>\n",
       "      <td>2016-12-04</td>\n",
       "      <td>13162</td>\n",
       "      <td>8.50</td>\n",
       "      <td>8.50</td>\n",
       "      <td>0.0</td>\n",
       "      <td>1.88</td>\n",
       "      <td>0.55</td>\n",
       "      <td>6.06</td>\n",
       "      <td>0.0</td>\n",
       "      <td>25</td>\n",
       "      <td>13</td>\n",
       "      <td>328</td>\n",
       "      <td>728</td>\n",
       "      <td>1985</td>\n",
       "      <td>18.233333</td>\n",
       "    </tr>\n",
       "    <tr>\n",
       "      <th>1</th>\n",
       "      <td>1503960366</td>\n",
       "      <td>2016-04-13</td>\n",
       "      <td>10735</td>\n",
       "      <td>6.97</td>\n",
       "      <td>6.97</td>\n",
       "      <td>0.0</td>\n",
       "      <td>1.57</td>\n",
       "      <td>0.69</td>\n",
       "      <td>4.71</td>\n",
       "      <td>0.0</td>\n",
       "      <td>21</td>\n",
       "      <td>19</td>\n",
       "      <td>217</td>\n",
       "      <td>776</td>\n",
       "      <td>1797</td>\n",
       "      <td>17.216667</td>\n",
       "    </tr>\n",
       "    <tr>\n",
       "      <th>2</th>\n",
       "      <td>1503960366</td>\n",
       "      <td>2016-04-14</td>\n",
       "      <td>10460</td>\n",
       "      <td>6.74</td>\n",
       "      <td>6.74</td>\n",
       "      <td>0.0</td>\n",
       "      <td>2.44</td>\n",
       "      <td>0.40</td>\n",
       "      <td>3.91</td>\n",
       "      <td>0.0</td>\n",
       "      <td>30</td>\n",
       "      <td>11</td>\n",
       "      <td>181</td>\n",
       "      <td>1218</td>\n",
       "      <td>1776</td>\n",
       "      <td>24.000000</td>\n",
       "    </tr>\n",
       "    <tr>\n",
       "      <th>3</th>\n",
       "      <td>1503960366</td>\n",
       "      <td>2016-04-15</td>\n",
       "      <td>9762</td>\n",
       "      <td>6.28</td>\n",
       "      <td>6.28</td>\n",
       "      <td>0.0</td>\n",
       "      <td>2.14</td>\n",
       "      <td>1.26</td>\n",
       "      <td>2.83</td>\n",
       "      <td>0.0</td>\n",
       "      <td>29</td>\n",
       "      <td>34</td>\n",
       "      <td>209</td>\n",
       "      <td>726</td>\n",
       "      <td>1745</td>\n",
       "      <td>16.633333</td>\n",
       "    </tr>\n",
       "    <tr>\n",
       "      <th>4</th>\n",
       "      <td>1503960366</td>\n",
       "      <td>2016-04-16</td>\n",
       "      <td>12669</td>\n",
       "      <td>8.16</td>\n",
       "      <td>8.16</td>\n",
       "      <td>0.0</td>\n",
       "      <td>2.71</td>\n",
       "      <td>0.41</td>\n",
       "      <td>5.04</td>\n",
       "      <td>0.0</td>\n",
       "      <td>36</td>\n",
       "      <td>10</td>\n",
       "      <td>221</td>\n",
       "      <td>773</td>\n",
       "      <td>1863</td>\n",
       "      <td>17.333333</td>\n",
       "    </tr>\n",
       "  </tbody>\n",
       "</table>\n",
       "</div>"
      ],
      "text/plain": [
       "           Id ActivityDate  TotalSteps  TotalDistance  TrackerDistance  \\\n",
       "0  1503960366   2016-12-04       13162           8.50             8.50   \n",
       "1  1503960366   2016-04-13       10735           6.97             6.97   \n",
       "2  1503960366   2016-04-14       10460           6.74             6.74   \n",
       "3  1503960366   2016-04-15        9762           6.28             6.28   \n",
       "4  1503960366   2016-04-16       12669           8.16             8.16   \n",
       "\n",
       "   LoggedActivitiesDistance  VeryActiveDistance  ModeratelyActiveDistance  \\\n",
       "0                       0.0                1.88                      0.55   \n",
       "1                       0.0                1.57                      0.69   \n",
       "2                       0.0                2.44                      0.40   \n",
       "3                       0.0                2.14                      1.26   \n",
       "4                       0.0                2.71                      0.41   \n",
       "\n",
       "   LightActiveDistance  SedentaryActiveDistance  VeryActiveMinutes  \\\n",
       "0                 6.06                      0.0                 25   \n",
       "1                 4.71                      0.0                 21   \n",
       "2                 3.91                      0.0                 30   \n",
       "3                 2.83                      0.0                 29   \n",
       "4                 5.04                      0.0                 36   \n",
       "\n",
       "   FairlyActiveMinutes  LightlyActiveMinutes  SedentaryMinutes  Calories  \\\n",
       "0                   13                   328               728      1985   \n",
       "1                   19                   217               776      1797   \n",
       "2                   11                   181              1218      1776   \n",
       "3                   34                   209               726      1745   \n",
       "4                   10                   221               773      1863   \n",
       "\n",
       "   Total_Hours  \n",
       "0    18.233333  \n",
       "1    17.216667  \n",
       "2    24.000000  \n",
       "3    16.633333  \n",
       "4    17.333333  "
      ]
     },
     "execution_count": 27,
     "metadata": {},
     "output_type": "execute_result"
    }
   ],
   "source": [
    "daily_activity.head()"
   ]
  },
  {
   "cell_type": "markdown",
   "id": "4463c458",
   "metadata": {
    "papermill": {
     "duration": 0.042744,
     "end_time": "2021-12-28T18:36:44.660664",
     "exception": false,
     "start_time": "2021-12-28T18:36:44.617920",
     "status": "completed"
    },
    "tags": []
   },
   "source": [
    "Now, we will create a new 'WeekDay' column to understand the activity happening on the each day of the week."
   ]
  },
  {
   "cell_type": "code",
   "execution_count": 28,
   "id": "0d0ad909",
   "metadata": {
    "execution": {
     "iopub.execute_input": "2021-12-28T18:36:44.749375Z",
     "iopub.status.busy": "2021-12-28T18:36:44.748720Z",
     "iopub.status.idle": "2021-12-28T18:36:44.764639Z",
     "shell.execute_reply": "2021-12-28T18:36:44.765105Z",
     "shell.execute_reply.started": "2021-12-28T18:27:45.933860Z"
    },
    "papermill": {
     "duration": 0.061928,
     "end_time": "2021-12-28T18:36:44.765307",
     "exception": false,
     "start_time": "2021-12-28T18:36:44.703379",
     "status": "completed"
    },
    "tags": []
   },
   "outputs": [],
   "source": [
    "daily_activity['Weekday'] = daily_activity.ActivityDate.apply(lambda x: x.day_name())"
   ]
  },
  {
   "cell_type": "code",
   "execution_count": 29,
   "id": "7d2db928",
   "metadata": {
    "execution": {
     "iopub.execute_input": "2021-12-28T18:36:44.851195Z",
     "iopub.status.busy": "2021-12-28T18:36:44.850005Z",
     "iopub.status.idle": "2021-12-28T18:36:44.857663Z",
     "shell.execute_reply": "2021-12-28T18:36:44.858150Z",
     "shell.execute_reply.started": "2021-12-28T18:27:49.532817Z"
    },
    "papermill": {
     "duration": 0.051859,
     "end_time": "2021-12-28T18:36:44.858334",
     "exception": false,
     "start_time": "2021-12-28T18:36:44.806475",
     "status": "completed"
    },
    "tags": []
   },
   "outputs": [
    {
     "data": {
      "text/plain": [
       "0         Sunday\n",
       "1      Wednesday\n",
       "2       Thursday\n",
       "3         Friday\n",
       "4       Saturday\n",
       "         ...    \n",
       "935       Friday\n",
       "936       Monday\n",
       "937    Wednesday\n",
       "938     Saturday\n",
       "939       Monday\n",
       "Name: Weekday, Length: 940, dtype: object"
      ]
     },
     "execution_count": 29,
     "metadata": {},
     "output_type": "execute_result"
    }
   ],
   "source": [
    "daily_activity['Weekday']"
   ]
  },
  {
   "cell_type": "code",
   "execution_count": 30,
   "id": "598d9315",
   "metadata": {
    "execution": {
     "iopub.execute_input": "2021-12-28T18:36:44.944991Z",
     "iopub.status.busy": "2021-12-28T18:36:44.943975Z",
     "iopub.status.idle": "2021-12-28T18:36:44.964151Z",
     "shell.execute_reply": "2021-12-28T18:36:44.963304Z",
     "shell.execute_reply.started": "2021-12-28T18:27:52.822473Z"
    },
    "papermill": {
     "duration": 0.06506,
     "end_time": "2021-12-28T18:36:44.964517",
     "exception": false,
     "start_time": "2021-12-28T18:36:44.899457",
     "status": "completed"
    },
    "tags": []
   },
   "outputs": [
    {
     "data": {
      "text/html": [
       "<div>\n",
       "<style scoped>\n",
       "    .dataframe tbody tr th:only-of-type {\n",
       "        vertical-align: middle;\n",
       "    }\n",
       "\n",
       "    .dataframe tbody tr th {\n",
       "        vertical-align: top;\n",
       "    }\n",
       "\n",
       "    .dataframe thead th {\n",
       "        text-align: right;\n",
       "    }\n",
       "</style>\n",
       "<table border=\"1\" class=\"dataframe\">\n",
       "  <thead>\n",
       "    <tr style=\"text-align: right;\">\n",
       "      <th></th>\n",
       "      <th>Id</th>\n",
       "      <th>ActivityDate</th>\n",
       "      <th>TotalSteps</th>\n",
       "      <th>TotalDistance</th>\n",
       "      <th>TrackerDistance</th>\n",
       "      <th>LoggedActivitiesDistance</th>\n",
       "      <th>VeryActiveDistance</th>\n",
       "      <th>ModeratelyActiveDistance</th>\n",
       "      <th>LightActiveDistance</th>\n",
       "      <th>SedentaryActiveDistance</th>\n",
       "      <th>VeryActiveMinutes</th>\n",
       "      <th>FairlyActiveMinutes</th>\n",
       "      <th>LightlyActiveMinutes</th>\n",
       "      <th>SedentaryMinutes</th>\n",
       "      <th>Calories</th>\n",
       "      <th>Total_Hours</th>\n",
       "      <th>Weekday</th>\n",
       "    </tr>\n",
       "  </thead>\n",
       "  <tbody>\n",
       "    <tr>\n",
       "      <th>0</th>\n",
       "      <td>1503960366</td>\n",
       "      <td>2016-12-04</td>\n",
       "      <td>13162</td>\n",
       "      <td>8.50</td>\n",
       "      <td>8.50</td>\n",
       "      <td>0.0</td>\n",
       "      <td>1.88</td>\n",
       "      <td>0.55</td>\n",
       "      <td>6.06</td>\n",
       "      <td>0.0</td>\n",
       "      <td>25</td>\n",
       "      <td>13</td>\n",
       "      <td>328</td>\n",
       "      <td>728</td>\n",
       "      <td>1985</td>\n",
       "      <td>18.233333</td>\n",
       "      <td>Sunday</td>\n",
       "    </tr>\n",
       "    <tr>\n",
       "      <th>1</th>\n",
       "      <td>1503960366</td>\n",
       "      <td>2016-04-13</td>\n",
       "      <td>10735</td>\n",
       "      <td>6.97</td>\n",
       "      <td>6.97</td>\n",
       "      <td>0.0</td>\n",
       "      <td>1.57</td>\n",
       "      <td>0.69</td>\n",
       "      <td>4.71</td>\n",
       "      <td>0.0</td>\n",
       "      <td>21</td>\n",
       "      <td>19</td>\n",
       "      <td>217</td>\n",
       "      <td>776</td>\n",
       "      <td>1797</td>\n",
       "      <td>17.216667</td>\n",
       "      <td>Wednesday</td>\n",
       "    </tr>\n",
       "    <tr>\n",
       "      <th>2</th>\n",
       "      <td>1503960366</td>\n",
       "      <td>2016-04-14</td>\n",
       "      <td>10460</td>\n",
       "      <td>6.74</td>\n",
       "      <td>6.74</td>\n",
       "      <td>0.0</td>\n",
       "      <td>2.44</td>\n",
       "      <td>0.40</td>\n",
       "      <td>3.91</td>\n",
       "      <td>0.0</td>\n",
       "      <td>30</td>\n",
       "      <td>11</td>\n",
       "      <td>181</td>\n",
       "      <td>1218</td>\n",
       "      <td>1776</td>\n",
       "      <td>24.000000</td>\n",
       "      <td>Thursday</td>\n",
       "    </tr>\n",
       "    <tr>\n",
       "      <th>3</th>\n",
       "      <td>1503960366</td>\n",
       "      <td>2016-04-15</td>\n",
       "      <td>9762</td>\n",
       "      <td>6.28</td>\n",
       "      <td>6.28</td>\n",
       "      <td>0.0</td>\n",
       "      <td>2.14</td>\n",
       "      <td>1.26</td>\n",
       "      <td>2.83</td>\n",
       "      <td>0.0</td>\n",
       "      <td>29</td>\n",
       "      <td>34</td>\n",
       "      <td>209</td>\n",
       "      <td>726</td>\n",
       "      <td>1745</td>\n",
       "      <td>16.633333</td>\n",
       "      <td>Friday</td>\n",
       "    </tr>\n",
       "    <tr>\n",
       "      <th>4</th>\n",
       "      <td>1503960366</td>\n",
       "      <td>2016-04-16</td>\n",
       "      <td>12669</td>\n",
       "      <td>8.16</td>\n",
       "      <td>8.16</td>\n",
       "      <td>0.0</td>\n",
       "      <td>2.71</td>\n",
       "      <td>0.41</td>\n",
       "      <td>5.04</td>\n",
       "      <td>0.0</td>\n",
       "      <td>36</td>\n",
       "      <td>10</td>\n",
       "      <td>221</td>\n",
       "      <td>773</td>\n",
       "      <td>1863</td>\n",
       "      <td>17.333333</td>\n",
       "      <td>Saturday</td>\n",
       "    </tr>\n",
       "  </tbody>\n",
       "</table>\n",
       "</div>"
      ],
      "text/plain": [
       "           Id ActivityDate  TotalSteps  TotalDistance  TrackerDistance  \\\n",
       "0  1503960366   2016-12-04       13162           8.50             8.50   \n",
       "1  1503960366   2016-04-13       10735           6.97             6.97   \n",
       "2  1503960366   2016-04-14       10460           6.74             6.74   \n",
       "3  1503960366   2016-04-15        9762           6.28             6.28   \n",
       "4  1503960366   2016-04-16       12669           8.16             8.16   \n",
       "\n",
       "   LoggedActivitiesDistance  VeryActiveDistance  ModeratelyActiveDistance  \\\n",
       "0                       0.0                1.88                      0.55   \n",
       "1                       0.0                1.57                      0.69   \n",
       "2                       0.0                2.44                      0.40   \n",
       "3                       0.0                2.14                      1.26   \n",
       "4                       0.0                2.71                      0.41   \n",
       "\n",
       "   LightActiveDistance  SedentaryActiveDistance  VeryActiveMinutes  \\\n",
       "0                 6.06                      0.0                 25   \n",
       "1                 4.71                      0.0                 21   \n",
       "2                 3.91                      0.0                 30   \n",
       "3                 2.83                      0.0                 29   \n",
       "4                 5.04                      0.0                 36   \n",
       "\n",
       "   FairlyActiveMinutes  LightlyActiveMinutes  SedentaryMinutes  Calories  \\\n",
       "0                   13                   328               728      1985   \n",
       "1                   19                   217               776      1797   \n",
       "2                   11                   181              1218      1776   \n",
       "3                   34                   209               726      1745   \n",
       "4                   10                   221               773      1863   \n",
       "\n",
       "   Total_Hours    Weekday  \n",
       "0    18.233333     Sunday  \n",
       "1    17.216667  Wednesday  \n",
       "2    24.000000   Thursday  \n",
       "3    16.633333     Friday  \n",
       "4    17.333333   Saturday  "
      ]
     },
     "execution_count": 30,
     "metadata": {},
     "output_type": "execute_result"
    }
   ],
   "source": [
    "daily_activity.head()"
   ]
  },
  {
   "cell_type": "markdown",
   "id": "46b88814",
   "metadata": {
    "papermill": {
     "duration": 0.044239,
     "end_time": "2021-12-28T18:36:45.053430",
     "exception": false,
     "start_time": "2021-12-28T18:36:45.009191",
     "status": "completed"
    },
    "tags": []
   },
   "source": [
    "We will replicate the same process for 'Sleep' Dataset."
   ]
  },
  {
   "cell_type": "code",
   "execution_count": 31,
   "id": "e3d605b3",
   "metadata": {
    "execution": {
     "iopub.execute_input": "2021-12-28T18:36:45.148292Z",
     "iopub.status.busy": "2021-12-28T18:36:45.147169Z",
     "iopub.status.idle": "2021-12-28T18:36:45.148996Z",
     "shell.execute_reply": "2021-12-28T18:36:45.149463Z",
     "shell.execute_reply.started": "2021-12-28T18:27:56.302983Z"
    },
    "papermill": {
     "duration": 0.052911,
     "end_time": "2021-12-28T18:36:45.149644",
     "exception": false,
     "start_time": "2021-12-28T18:36:45.096733",
     "status": "completed"
    },
    "tags": []
   },
   "outputs": [],
   "source": [
    "sleep['Total_Hours_Asleep'] = sleep['TotalMinutesAsleep'] / 60"
   ]
  },
  {
   "cell_type": "code",
   "execution_count": 32,
   "id": "e15189de",
   "metadata": {
    "execution": {
     "iopub.execute_input": "2021-12-28T18:36:45.244350Z",
     "iopub.status.busy": "2021-12-28T18:36:45.243703Z",
     "iopub.status.idle": "2021-12-28T18:36:45.246359Z",
     "shell.execute_reply": "2021-12-28T18:36:45.245868Z",
     "shell.execute_reply.started": "2021-12-28T18:27:59.042896Z"
    },
    "papermill": {
     "duration": 0.055014,
     "end_time": "2021-12-28T18:36:45.246495",
     "exception": false,
     "start_time": "2021-12-28T18:36:45.191481",
     "status": "completed"
    },
    "tags": []
   },
   "outputs": [],
   "source": [
    "sleep['WeekDay'] = sleep.SleepDay.apply(lambda x: x.day_name())"
   ]
  },
  {
   "cell_type": "code",
   "execution_count": 33,
   "id": "fd6f689c",
   "metadata": {
    "execution": {
     "iopub.execute_input": "2021-12-28T18:36:45.343702Z",
     "iopub.status.busy": "2021-12-28T18:36:45.335101Z",
     "iopub.status.idle": "2021-12-28T18:36:45.346791Z",
     "shell.execute_reply": "2021-12-28T18:36:45.347360Z",
     "shell.execute_reply.started": "2021-12-28T18:28:01.563225Z"
    },
    "papermill": {
     "duration": 0.058846,
     "end_time": "2021-12-28T18:36:45.347538",
     "exception": false,
     "start_time": "2021-12-28T18:36:45.288692",
     "status": "completed"
    },
    "tags": []
   },
   "outputs": [
    {
     "data": {
      "text/html": [
       "<div>\n",
       "<style scoped>\n",
       "    .dataframe tbody tr th:only-of-type {\n",
       "        vertical-align: middle;\n",
       "    }\n",
       "\n",
       "    .dataframe tbody tr th {\n",
       "        vertical-align: top;\n",
       "    }\n",
       "\n",
       "    .dataframe thead th {\n",
       "        text-align: right;\n",
       "    }\n",
       "</style>\n",
       "<table border=\"1\" class=\"dataframe\">\n",
       "  <thead>\n",
       "    <tr style=\"text-align: right;\">\n",
       "      <th></th>\n",
       "      <th>Id</th>\n",
       "      <th>SleepDay</th>\n",
       "      <th>TotalSleepRecords</th>\n",
       "      <th>TotalMinutesAsleep</th>\n",
       "      <th>TotalTimeInBed</th>\n",
       "      <th>Total_Hours_Asleep</th>\n",
       "      <th>WeekDay</th>\n",
       "    </tr>\n",
       "  </thead>\n",
       "  <tbody>\n",
       "    <tr>\n",
       "      <th>0</th>\n",
       "      <td>1503960366</td>\n",
       "      <td>2016-12-04</td>\n",
       "      <td>1</td>\n",
       "      <td>327</td>\n",
       "      <td>346</td>\n",
       "      <td>5.450000</td>\n",
       "      <td>Sunday</td>\n",
       "    </tr>\n",
       "    <tr>\n",
       "      <th>1</th>\n",
       "      <td>1503960366</td>\n",
       "      <td>2016-04-13</td>\n",
       "      <td>2</td>\n",
       "      <td>384</td>\n",
       "      <td>407</td>\n",
       "      <td>6.400000</td>\n",
       "      <td>Wednesday</td>\n",
       "    </tr>\n",
       "    <tr>\n",
       "      <th>2</th>\n",
       "      <td>1503960366</td>\n",
       "      <td>2016-04-15</td>\n",
       "      <td>1</td>\n",
       "      <td>412</td>\n",
       "      <td>442</td>\n",
       "      <td>6.866667</td>\n",
       "      <td>Friday</td>\n",
       "    </tr>\n",
       "    <tr>\n",
       "      <th>3</th>\n",
       "      <td>1503960366</td>\n",
       "      <td>2016-04-16</td>\n",
       "      <td>2</td>\n",
       "      <td>340</td>\n",
       "      <td>367</td>\n",
       "      <td>5.666667</td>\n",
       "      <td>Saturday</td>\n",
       "    </tr>\n",
       "    <tr>\n",
       "      <th>4</th>\n",
       "      <td>1503960366</td>\n",
       "      <td>2016-04-17</td>\n",
       "      <td>1</td>\n",
       "      <td>700</td>\n",
       "      <td>712</td>\n",
       "      <td>11.666667</td>\n",
       "      <td>Sunday</td>\n",
       "    </tr>\n",
       "  </tbody>\n",
       "</table>\n",
       "</div>"
      ],
      "text/plain": [
       "           Id   SleepDay  TotalSleepRecords  TotalMinutesAsleep  \\\n",
       "0  1503960366 2016-12-04                  1                 327   \n",
       "1  1503960366 2016-04-13                  2                 384   \n",
       "2  1503960366 2016-04-15                  1                 412   \n",
       "3  1503960366 2016-04-16                  2                 340   \n",
       "4  1503960366 2016-04-17                  1                 700   \n",
       "\n",
       "   TotalTimeInBed  Total_Hours_Asleep    WeekDay  \n",
       "0             346            5.450000     Sunday  \n",
       "1             407            6.400000  Wednesday  \n",
       "2             442            6.866667     Friday  \n",
       "3             367            5.666667   Saturday  \n",
       "4             712           11.666667     Sunday  "
      ]
     },
     "execution_count": 33,
     "metadata": {},
     "output_type": "execute_result"
    }
   ],
   "source": [
    "sleep.head()"
   ]
  },
  {
   "cell_type": "code",
   "execution_count": 34,
   "id": "1b19628c",
   "metadata": {
    "execution": {
     "iopub.execute_input": "2021-12-28T18:36:45.439861Z",
     "iopub.status.busy": "2021-12-28T18:36:45.438654Z",
     "iopub.status.idle": "2021-12-28T18:36:45.449106Z",
     "shell.execute_reply": "2021-12-28T18:36:45.449606Z",
     "shell.execute_reply.started": "2021-12-28T18:28:04.298004Z"
    },
    "papermill": {
     "duration": 0.05884,
     "end_time": "2021-12-28T18:36:45.449779",
     "exception": false,
     "start_time": "2021-12-28T18:36:45.390939",
     "status": "completed"
    },
    "tags": []
   },
   "outputs": [
    {
     "data": {
      "text/html": [
       "<div>\n",
       "<style scoped>\n",
       "    .dataframe tbody tr th:only-of-type {\n",
       "        vertical-align: middle;\n",
       "    }\n",
       "\n",
       "    .dataframe tbody tr th {\n",
       "        vertical-align: top;\n",
       "    }\n",
       "\n",
       "    .dataframe thead th {\n",
       "        text-align: right;\n",
       "    }\n",
       "</style>\n",
       "<table border=\"1\" class=\"dataframe\">\n",
       "  <thead>\n",
       "    <tr style=\"text-align: right;\">\n",
       "      <th></th>\n",
       "      <th>Id</th>\n",
       "      <th>ActivityHour</th>\n",
       "      <th>TotalIntensity</th>\n",
       "      <th>AverageIntensity</th>\n",
       "    </tr>\n",
       "  </thead>\n",
       "  <tbody>\n",
       "    <tr>\n",
       "      <th>0</th>\n",
       "      <td>1503960366</td>\n",
       "      <td>2016-12-04 00:00:00</td>\n",
       "      <td>20</td>\n",
       "      <td>0.333333</td>\n",
       "    </tr>\n",
       "    <tr>\n",
       "      <th>1</th>\n",
       "      <td>1503960366</td>\n",
       "      <td>2016-12-04 01:00:00</td>\n",
       "      <td>8</td>\n",
       "      <td>0.133333</td>\n",
       "    </tr>\n",
       "    <tr>\n",
       "      <th>2</th>\n",
       "      <td>1503960366</td>\n",
       "      <td>2016-12-04 02:00:00</td>\n",
       "      <td>7</td>\n",
       "      <td>0.116667</td>\n",
       "    </tr>\n",
       "    <tr>\n",
       "      <th>3</th>\n",
       "      <td>1503960366</td>\n",
       "      <td>2016-12-04 03:00:00</td>\n",
       "      <td>0</td>\n",
       "      <td>0.000000</td>\n",
       "    </tr>\n",
       "    <tr>\n",
       "      <th>4</th>\n",
       "      <td>1503960366</td>\n",
       "      <td>2016-12-04 04:00:00</td>\n",
       "      <td>0</td>\n",
       "      <td>0.000000</td>\n",
       "    </tr>\n",
       "  </tbody>\n",
       "</table>\n",
       "</div>"
      ],
      "text/plain": [
       "           Id        ActivityHour  TotalIntensity  AverageIntensity\n",
       "0  1503960366 2016-12-04 00:00:00              20          0.333333\n",
       "1  1503960366 2016-12-04 01:00:00               8          0.133333\n",
       "2  1503960366 2016-12-04 02:00:00               7          0.116667\n",
       "3  1503960366 2016-12-04 03:00:00               0          0.000000\n",
       "4  1503960366 2016-12-04 04:00:00               0          0.000000"
      ]
     },
     "execution_count": 34,
     "metadata": {},
     "output_type": "execute_result"
    }
   ],
   "source": [
    "hourly_intensities.head()"
   ]
  },
  {
   "cell_type": "code",
   "execution_count": 35,
   "id": "7f22bf95",
   "metadata": {
    "execution": {
     "iopub.execute_input": "2021-12-28T18:36:45.538158Z",
     "iopub.status.busy": "2021-12-28T18:36:45.537207Z",
     "iopub.status.idle": "2021-12-28T18:36:45.713562Z",
     "shell.execute_reply": "2021-12-28T18:36:45.714073Z",
     "shell.execute_reply.started": "2021-12-28T18:28:07.042721Z"
    },
    "papermill": {
     "duration": 0.222243,
     "end_time": "2021-12-28T18:36:45.714267",
     "exception": false,
     "start_time": "2021-12-28T18:36:45.492024",
     "status": "completed"
    },
    "tags": []
   },
   "outputs": [],
   "source": [
    "hourly_intensities['HouroftheDay'] = hourly_intensities.ActivityHour.apply(lambda x: x.hour)"
   ]
  },
  {
   "cell_type": "code",
   "execution_count": 36,
   "id": "b622ee59",
   "metadata": {
    "execution": {
     "iopub.execute_input": "2021-12-28T18:36:45.812014Z",
     "iopub.status.busy": "2021-12-28T18:36:45.811066Z",
     "iopub.status.idle": "2021-12-28T18:36:45.821259Z",
     "shell.execute_reply": "2021-12-28T18:36:45.821777Z",
     "shell.execute_reply.started": "2021-12-28T18:28:09.542495Z"
    },
    "papermill": {
     "duration": 0.057551,
     "end_time": "2021-12-28T18:36:45.821940",
     "exception": false,
     "start_time": "2021-12-28T18:36:45.764389",
     "status": "completed"
    },
    "tags": []
   },
   "outputs": [
    {
     "data": {
      "text/html": [
       "<div>\n",
       "<style scoped>\n",
       "    .dataframe tbody tr th:only-of-type {\n",
       "        vertical-align: middle;\n",
       "    }\n",
       "\n",
       "    .dataframe tbody tr th {\n",
       "        vertical-align: top;\n",
       "    }\n",
       "\n",
       "    .dataframe thead th {\n",
       "        text-align: right;\n",
       "    }\n",
       "</style>\n",
       "<table border=\"1\" class=\"dataframe\">\n",
       "  <thead>\n",
       "    <tr style=\"text-align: right;\">\n",
       "      <th></th>\n",
       "      <th>Id</th>\n",
       "      <th>ActivityHour</th>\n",
       "      <th>TotalIntensity</th>\n",
       "      <th>AverageIntensity</th>\n",
       "      <th>HouroftheDay</th>\n",
       "    </tr>\n",
       "  </thead>\n",
       "  <tbody>\n",
       "    <tr>\n",
       "      <th>0</th>\n",
       "      <td>1503960366</td>\n",
       "      <td>2016-12-04 00:00:00</td>\n",
       "      <td>20</td>\n",
       "      <td>0.333333</td>\n",
       "      <td>0</td>\n",
       "    </tr>\n",
       "    <tr>\n",
       "      <th>1</th>\n",
       "      <td>1503960366</td>\n",
       "      <td>2016-12-04 01:00:00</td>\n",
       "      <td>8</td>\n",
       "      <td>0.133333</td>\n",
       "      <td>1</td>\n",
       "    </tr>\n",
       "    <tr>\n",
       "      <th>2</th>\n",
       "      <td>1503960366</td>\n",
       "      <td>2016-12-04 02:00:00</td>\n",
       "      <td>7</td>\n",
       "      <td>0.116667</td>\n",
       "      <td>2</td>\n",
       "    </tr>\n",
       "    <tr>\n",
       "      <th>3</th>\n",
       "      <td>1503960366</td>\n",
       "      <td>2016-12-04 03:00:00</td>\n",
       "      <td>0</td>\n",
       "      <td>0.000000</td>\n",
       "      <td>3</td>\n",
       "    </tr>\n",
       "    <tr>\n",
       "      <th>4</th>\n",
       "      <td>1503960366</td>\n",
       "      <td>2016-12-04 04:00:00</td>\n",
       "      <td>0</td>\n",
       "      <td>0.000000</td>\n",
       "      <td>4</td>\n",
       "    </tr>\n",
       "  </tbody>\n",
       "</table>\n",
       "</div>"
      ],
      "text/plain": [
       "           Id        ActivityHour  TotalIntensity  AverageIntensity  \\\n",
       "0  1503960366 2016-12-04 00:00:00              20          0.333333   \n",
       "1  1503960366 2016-12-04 01:00:00               8          0.133333   \n",
       "2  1503960366 2016-12-04 02:00:00               7          0.116667   \n",
       "3  1503960366 2016-12-04 03:00:00               0          0.000000   \n",
       "4  1503960366 2016-12-04 04:00:00               0          0.000000   \n",
       "\n",
       "   HouroftheDay  \n",
       "0             0  \n",
       "1             1  \n",
       "2             2  \n",
       "3             3  \n",
       "4             4  "
      ]
     },
     "execution_count": 36,
     "metadata": {},
     "output_type": "execute_result"
    }
   ],
   "source": [
    "hourly_intensities.head()"
   ]
  },
  {
   "cell_type": "markdown",
   "id": "775d4971",
   "metadata": {
    "papermill": {
     "duration": 0.043224,
     "end_time": "2021-12-28T18:36:45.921073",
     "exception": false,
     "start_time": "2021-12-28T18:36:45.877849",
     "status": "completed"
    },
    "tags": []
   },
   "source": [
    "# Data Analysis & Visualization"
   ]
  },
  {
   "cell_type": "code",
   "execution_count": 37,
   "id": "078ad3b7",
   "metadata": {
    "execution": {
     "iopub.execute_input": "2021-12-28T18:36:46.020172Z",
     "iopub.status.busy": "2021-12-28T18:36:46.019224Z",
     "iopub.status.idle": "2021-12-28T18:36:46.027644Z",
     "shell.execute_reply": "2021-12-28T18:36:46.028180Z",
     "shell.execute_reply.started": "2021-12-28T18:28:14.187861Z"
    },
    "papermill": {
     "duration": 0.057974,
     "end_time": "2021-12-28T18:36:46.028387",
     "exception": false,
     "start_time": "2021-12-28T18:36:45.970413",
     "status": "completed"
    },
    "tags": []
   },
   "outputs": [
    {
     "data": {
      "text/plain": [
       "Id                          0\n",
       "ActivityDate                0\n",
       "TotalSteps                  0\n",
       "TotalDistance               0\n",
       "TrackerDistance             0\n",
       "LoggedActivitiesDistance    0\n",
       "VeryActiveDistance          0\n",
       "ModeratelyActiveDistance    0\n",
       "LightActiveDistance         0\n",
       "SedentaryActiveDistance     0\n",
       "VeryActiveMinutes           0\n",
       "FairlyActiveMinutes         0\n",
       "LightlyActiveMinutes        0\n",
       "SedentaryMinutes            0\n",
       "Calories                    0\n",
       "Total_Hours                 0\n",
       "Weekday                     0\n",
       "dtype: int64"
      ]
     },
     "execution_count": 37,
     "metadata": {},
     "output_type": "execute_result"
    }
   ],
   "source": [
    "daily_activity.isna().sum()"
   ]
  },
  {
   "cell_type": "code",
   "execution_count": 38,
   "id": "ae5560f9",
   "metadata": {
    "execution": {
     "iopub.execute_input": "2021-12-28T18:36:46.138313Z",
     "iopub.status.busy": "2021-12-28T18:36:46.137387Z",
     "iopub.status.idle": "2021-12-28T18:36:46.146731Z",
     "shell.execute_reply": "2021-12-28T18:36:46.147309Z",
     "shell.execute_reply.started": "2021-12-28T18:28:16.662940Z"
    },
    "papermill": {
     "duration": 0.058953,
     "end_time": "2021-12-28T18:36:46.147523",
     "exception": false,
     "start_time": "2021-12-28T18:36:46.088570",
     "status": "completed"
    },
    "tags": []
   },
   "outputs": [
    {
     "data": {
      "text/plain": [
       "Id                    0\n",
       "SleepDay              0\n",
       "TotalSleepRecords     0\n",
       "TotalMinutesAsleep    0\n",
       "TotalTimeInBed        0\n",
       "Total_Hours_Asleep    0\n",
       "WeekDay               0\n",
       "dtype: int64"
      ]
     },
     "execution_count": 38,
     "metadata": {},
     "output_type": "execute_result"
    }
   ],
   "source": [
    "sleep.isna().sum()"
   ]
  },
  {
   "cell_type": "code",
   "execution_count": 39,
   "id": "fa919136",
   "metadata": {
    "execution": {
     "iopub.execute_input": "2021-12-28T18:36:46.252882Z",
     "iopub.status.busy": "2021-12-28T18:36:46.251930Z",
     "iopub.status.idle": "2021-12-28T18:36:46.258415Z",
     "shell.execute_reply": "2021-12-28T18:36:46.258934Z",
     "shell.execute_reply.started": "2021-12-28T18:28:19.423171Z"
    },
    "papermill": {
     "duration": 0.055918,
     "end_time": "2021-12-28T18:36:46.259093",
     "exception": false,
     "start_time": "2021-12-28T18:36:46.203175",
     "status": "completed"
    },
    "tags": []
   },
   "outputs": [
    {
     "data": {
      "text/plain": [
       "Id                  0\n",
       "ActivityHour        0\n",
       "TotalIntensity      0\n",
       "AverageIntensity    0\n",
       "HouroftheDay        0\n",
       "dtype: int64"
      ]
     },
     "execution_count": 39,
     "metadata": {},
     "output_type": "execute_result"
    }
   ],
   "source": [
    "hourly_intensities.isna().sum()"
   ]
  },
  {
   "cell_type": "code",
   "execution_count": 40,
   "id": "7cb6d90f",
   "metadata": {
    "execution": {
     "iopub.execute_input": "2021-12-28T18:36:46.352395Z",
     "iopub.status.busy": "2021-12-28T18:36:46.351269Z",
     "iopub.status.idle": "2021-12-28T18:36:46.686575Z",
     "shell.execute_reply": "2021-12-28T18:36:46.686094Z",
     "shell.execute_reply.started": "2021-12-28T18:28:25.243060Z"
    },
    "papermill": {
     "duration": 0.383748,
     "end_time": "2021-12-28T18:36:46.686713",
     "exception": false,
     "start_time": "2021-12-28T18:36:46.302965",
     "status": "completed"
    },
    "tags": []
   },
   "outputs": [
    {
     "data": {
      "text/plain": [
       "<AxesSubplot:xlabel='Calories', ylabel='TotalSteps'>"
      ]
     },
     "execution_count": 40,
     "metadata": {},
     "output_type": "execute_result"
    },
    {
     "data": {
      "image/png": "[encoded data removed]",
      "text/plain": [
       "<Figure size 576x576 with 1 Axes>"
      ]
     },
     "metadata": {},
     "output_type": "display_data"
    }
   ],
   "source": [
    "sns.set_style('whitegrid')\n",
    "plt.figure(figsize = (8, 8))\n",
    "sns.scatterplot(x='Calories', y='TotalSteps', data=daily_activity, color='red')"
   ]
  },
  {
   "cell_type": "markdown",
   "id": "bca478dd",
   "metadata": {
    "papermill": {
     "duration": 0.044612,
     "end_time": "2021-12-28T18:36:46.777289",
     "exception": false,
     "start_time": "2021-12-28T18:36:46.732677",
     "status": "completed"
    },
    "tags": []
   },
   "source": [
    "**We can observe the correlation in the plot of 'TotalSteps' and 'Calories' data. This means the higher the total steps, the more calories are burned.**"
   ]
  },
  {
   "cell_type": "code",
   "execution_count": 41,
   "id": "b8d325a1",
   "metadata": {
    "execution": {
     "iopub.execute_input": "2021-12-28T18:36:46.873756Z",
     "iopub.status.busy": "2021-12-28T18:36:46.873069Z",
     "iopub.status.idle": "2021-12-28T18:36:47.252265Z",
     "shell.execute_reply": "2021-12-28T18:36:47.252718Z",
     "shell.execute_reply.started": "2021-12-28T18:28:46.243600Z"
    },
    "papermill": {
     "duration": 0.430013,
     "end_time": "2021-12-28T18:36:47.252943",
     "exception": false,
     "start_time": "2021-12-28T18:36:46.822930",
     "status": "completed"
    },
    "tags": []
   },
   "outputs": [
    {
     "data": {
      "image/png": "[encoded data removed]",
      "text/plain": [
       "<Figure size 720x360 with 1 Axes>"
      ]
     },
     "metadata": {},
     "output_type": "display_data"
    }
   ],
   "source": [
    "plt.figure(figsize = (10, 5))\n",
    "sns.barplot(x='Weekday', y='TotalSteps', data=daily_activity, palette='cool')\n",
    "plt.tight_layout()"
   ]
  },
  {
   "cell_type": "markdown",
   "id": "9856b4c2",
   "metadata": {
    "papermill": {
     "duration": 0.045886,
     "end_time": "2021-12-28T18:36:47.345155",
     "exception": false,
     "start_time": "2021-12-28T18:36:47.299269",
     "status": "completed"
    },
    "tags": []
   },
   "source": [
    "**The number of 'TotalSteps' taken are highest on the Saturday. This means the audience is more active on the weekends.**"
   ]
  },
  {
   "cell_type": "code",
   "execution_count": 42,
   "id": "2ac9f000",
   "metadata": {
    "execution": {
     "iopub.execute_input": "2021-12-28T18:36:47.445005Z",
     "iopub.status.busy": "2021-12-28T18:36:47.444382Z",
     "iopub.status.idle": "2021-12-28T18:36:47.823105Z",
     "shell.execute_reply": "2021-12-28T18:36:47.823565Z",
     "shell.execute_reply.started": "2021-12-28T18:28:51.363267Z"
    },
    "papermill": {
     "duration": 0.432505,
     "end_time": "2021-12-28T18:36:47.823746",
     "exception": false,
     "start_time": "2021-12-28T18:36:47.391241",
     "status": "completed"
    },
    "tags": []
   },
   "outputs": [
    {
     "data": {
      "image/png": "[encoded data removed]",
      "text/plain": [
       "<Figure size 720x360 with 1 Axes>"
      ]
     },
     "metadata": {},
     "output_type": "display_data"
    }
   ],
   "source": [
    "plt.figure(figsize = (10, 5))\n",
    "sns.barplot(x='WeekDay', y='Total_Hours_Asleep', data=sleep, palette='autumn')\n",
    "plt.tight_layout()"
   ]
  },
  {
   "cell_type": "markdown",
   "id": "a7035f14",
   "metadata": {
    "papermill": {
     "duration": 0.046478,
     "end_time": "2021-12-28T18:36:47.917757",
     "exception": false,
     "start_time": "2021-12-28T18:36:47.871279",
     "status": "completed"
    },
    "tags": []
   },
   "source": [
    "**As expected, the 'Sleep Hours' are higher on Sunday than the weekdays.**"
   ]
  },
  {
   "cell_type": "code",
   "execution_count": 43,
   "id": "a2b1553e",
   "metadata": {
    "execution": {
     "iopub.execute_input": "2021-12-28T18:36:48.016781Z",
     "iopub.status.busy": "2021-12-28T18:36:48.016091Z",
     "iopub.status.idle": "2021-12-28T18:36:48.276380Z",
     "shell.execute_reply": "2021-12-28T18:36:48.276798Z",
     "shell.execute_reply.started": "2021-12-28T18:29:02.283984Z"
    },
    "papermill": {
     "duration": 0.312851,
     "end_time": "2021-12-28T18:36:48.276966",
     "exception": false,
     "start_time": "2021-12-28T18:36:47.964115",
     "status": "completed"
    },
    "tags": []
   },
   "outputs": [
    {
     "data": {
      "text/plain": [
       "<AxesSubplot:xlabel='TotalMinutesAsleep', ylabel='TotalTimeInBed'>"
      ]
     },
     "execution_count": 43,
     "metadata": {},
     "output_type": "execute_result"
    },
    {
     "data": {
      "image/png": "[encoded data removed]",
      "text/plain": [
       "<Figure size 576x576 with 1 Axes>"
      ]
     },
     "metadata": {},
     "output_type": "display_data"
    }
   ],
   "source": [
    "plt.figure(figsize = (8, 8))\n",
    "sns.scatterplot(x='TotalMinutesAsleep', y='TotalTimeInBed', data=sleep,color='blue')"
   ]
  },
  {
   "cell_type": "markdown",
   "id": "65f8f95d",
   "metadata": {
    "papermill": {
     "duration": 0.04786,
     "end_time": "2021-12-28T18:36:48.372482",
     "exception": false,
     "start_time": "2021-12-28T18:36:48.324622",
     "status": "completed"
    },
    "tags": []
   },
   "source": [
    "**'TotalTimeInBed' and 'TotalMinutesAsleep' data points showcase a straight line indicating users are spending time in bed for sleeping.**"
   ]
  },
  {
   "cell_type": "code",
   "execution_count": 44,
   "id": "501d2247",
   "metadata": {
    "execution": {
     "iopub.execute_input": "2021-12-28T18:36:48.476384Z",
     "iopub.status.busy": "2021-12-28T18:36:48.475429Z",
     "iopub.status.idle": "2021-12-28T18:36:49.559430Z",
     "shell.execute_reply": "2021-12-28T18:36:49.559863Z",
     "shell.execute_reply.started": "2021-12-28T18:29:06.223644Z"
    },
    "papermill": {
     "duration": 1.139329,
     "end_time": "2021-12-28T18:36:49.560041",
     "exception": false,
     "start_time": "2021-12-28T18:36:48.420712",
     "status": "completed"
    },
    "tags": []
   },
   "outputs": [
    {
     "data": {
      "image/png": "[encoded data removed]",
      "text/plain": [
       "<Figure size 720x360 with 1 Axes>"
      ]
     },
     "metadata": {},
     "output_type": "display_data"
    }
   ],
   "source": [
    "plt.figure(figsize = (10, 5))\n",
    "sns.barplot(x='HouroftheDay', y='TotalIntensity', data=hourly_intensities, palette='viridis')\n",
    "plt.tight_layout()"
   ]
  },
  {
   "cell_type": "markdown",
   "id": "6db532db",
   "metadata": {
    "papermill": {
     "duration": 0.048653,
     "end_time": "2021-12-28T18:36:49.657739",
     "exception": false,
     "start_time": "2021-12-28T18:36:49.609086",
     "status": "completed"
    },
    "tags": []
   },
   "source": [
    "**The evening hours starting from 5 to 7 are the most intense hours for our users. This timing may be utilised by the participants for Gym and Fitness related activities.**"
   ]
  },
  {
   "cell_type": "markdown",
   "id": "03ef8aa7",
   "metadata": {
    "papermill": {
     "duration": 0.048735,
     "end_time": "2021-12-28T18:36:49.755419",
     "exception": false,
     "start_time": "2021-12-28T18:36:49.706684",
     "status": "completed"
    },
    "tags": []
   },
   "source": [
    "# Insights"
   ]
  },
  {
   "cell_type": "markdown",
   "id": "46d22dbd",
   "metadata": {
    "papermill": {
     "duration": 0.048592,
     "end_time": "2021-12-28T18:36:49.852834",
     "exception": false,
     "start_time": "2021-12-28T18:36:49.804242",
     "status": "completed"
    },
    "tags": []
   },
   "source": [
    "**Way Forward for Bellabeat:**\n",
    "\n",
    "* The Bellabeat App is designed to empower women and make them more aware about their fitness and health by installing good habits.\n",
    "\n",
    "* According to CDC, minimum 8,000 daily steps takesn are associated with 51% less risk for all-cause mortality. The Bellabeat app will set the target of daily steps to be completed and inform the user time to time about its progress. \n",
    "\n",
    "* We have observed that a particular day has higher number of steps compared to others. This can be equalised with daily step target,\n",
    "\n",
    "* To ensure women have complete sleep, the app can set an alarm reminding her about the sleeping hours. This can put sleeping schedule to the normal.\n",
    "\n",
    "* Evening hours are most active hours according to the data. The app can schedule the fitness routine before the start of the day to help the user ease into their task.\n",
    "\n",
    "* Reward points, fitness ratings, coupons can be introduced by the App to make the app more popular among its users."
   ]
  }
 ],
 "metadata": {
  "kernelspec": {
   "display_name": "Python 3",
   "language": "python",
   "name": "python3"
  },
  "language_info": {
   "codemirror_mode": {
    "name": "ipython",
    "version": 3
   },
   "file_extension": ".py",
   "mimetype": "text/x-python",
   "name": "python",
   "nbconvert_exporter": "python",
   "pygments_lexer": "ipython3",
   "version": "3.7.10"
  },
  "papermill": {
   "default_parameters": {},
   "duration": 19.749298,
   "end_time": "2021-12-28T18:36:50.510730",
   "environment_variables": {},
   "exception": null,
   "input_path": "__notebook__.ipynb",
   "output_path": "__notebook__.ipynb",
   "parameters": {},
   "start_time": "2021-12-28T18:36:30.761432",
   "version": "2.3.3"
  }
 },
 "nbformat": 4,
 "nbformat_minor": 5
}
